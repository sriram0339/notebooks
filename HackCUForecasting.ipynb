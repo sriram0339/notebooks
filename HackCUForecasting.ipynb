{
  "nbformat": 4,
  "nbformat_minor": 0,
  "metadata": {
    "colab": {
      "name": "HackCUForecasting.ipynb",
      "provenance": [],
      "mount_file_id": "1EvR2BJekOkKMdvMoKsa0O6ngQ9LLSsRq",
      "authorship_tag": "ABX9TyMyY+G2GVGnbAPEozsp6M66",
      "include_colab_link": true
    },
    "kernelspec": {
      "name": "python3",
      "display_name": "Python 3"
    }
  },
  "cells": [
    {
      "cell_type": "markdown",
      "metadata": {
        "id": "view-in-github",
        "colab_type": "text"
      },
      "source": [
        "<a href=\"https://colab.research.google.com/github/sriram0339/notebooks/blob/master/HackCUForecasting.ipynb\" target=\"_parent\"><img src=\"https://colab.research.google.com/assets/colab-badge.svg\" alt=\"Open In Colab\"/></a>"
      ]
    },
    {
      "cell_type": "code",
      "metadata": {
        "id": "fZMqnf_vdhTT",
        "colab_type": "code",
        "colab": {
          "base_uri": "https://localhost:8080/",
          "height": 139
        },
        "outputId": "6e249ee9-c691-4456-8f32-07fa150d522b"
      },
      "source": [
        "!pip install pulp\n"
      ],
      "execution_count": 67,
      "outputs": [
        {
          "output_type": "stream",
          "text": [
            "Collecting pulp\n",
            "\u001b[?25l  Downloading https://files.pythonhosted.org/packages/fb/34/ff5915ff6bae91cfb7c4cc22c3c369a6aea0b2127045dd5f308a91c260ac/PuLP-2.0-py3-none-any.whl (39.2MB)\n",
            "\u001b[K     |████████████████████████████████| 39.2MB 101kB/s \n",
            "\u001b[?25hRequirement already satisfied: pyparsing>=2.0.1 in /usr/local/lib/python3.6/dist-packages (from pulp) (2.4.6)\n",
            "Installing collected packages: pulp\n",
            "Successfully installed pulp-2.0\n"
          ],
          "name": "stdout"
        }
      ]
    },
    {
      "cell_type": "markdown",
      "metadata": {
        "id": "o7OWoPzEdmUp",
        "colab_type": "text"
      },
      "source": [
        "# Data Driven Forecasting\n",
        "\n",
        "We will explore how models can be built for time series forecasting with applications ranging from financial forecasting to helping people with type-1 diabetes.\n",
        "\n",
        "We will start with the familiar concept of regression.\n",
        "\n",
        "## Linear Regression\n",
        "\n",
        "Regression is (more or less) the task of fitting a curve to data. The most common type of regression is called _least squares_ regression.\n"
      ]
    },
    {
      "cell_type": "code",
      "metadata": {
        "id": "RrY1AevWePWM",
        "colab_type": "code",
        "colab": {
          "base_uri": "https://localhost:8080/",
          "height": 296
        },
        "outputId": "03cdf2ec-4c53-4aeb-9586-9986fa49c9a5"
      },
      "source": [
        "%matplotlib inline\n",
        "from matplotlib import pyplot as plt\n",
        "import numpy as np\n",
        "\n",
        "# Here is our data for x and y\n",
        "x = np.matrix([0, 1, 2, 3, 4, 5, 6, 7, 8, 9, 10, 11, 12 , 13, 14, 15]).T\n",
        "y = np.matrix([-0.5, 1.2, 0.4, 1.1, 2.1, 2.3, 2.5, 3.0, 3.9, 4.2, 4.6, 5.1, 5.4, 6.0, 6.6, 7.1 ]).T\n",
        "# plot it\n",
        "plt.plot(x, y, 'x')\n",
        "plt.xlabel('x')\n",
        "plt.ylabel('y')"
      ],
      "execution_count": 2,
      "outputs": [
        {
          "output_type": "execute_result",
          "data": {
            "text/plain": [
              "Text(0, 0.5, 'y')"
            ]
          },
          "metadata": {
            "tags": []
          },
          "execution_count": 2
        },
        {
          "output_type": "display_data",
          "data": {
            "image/png": "[encoded data removed]",
            "text/plain": [
              "<Figure size 432x288 with 1 Axes>"
            ]
          },
          "metadata": {
            "tags": []
          }
        }
      ]
    },
    {
      "cell_type": "code",
      "metadata": {
        "id": "cCtgbxisfAQf",
        "colab_type": "code",
        "colab": {
          "base_uri": "https://localhost:8080/",
          "height": 313
        },
        "outputId": "44f25222-d1fe-43c6-e89b-d39fcde8686e"
      },
      "source": [
        "# To find the best fit, solve the least squares problem\n",
        "# lstsq returns a tuple, just take the first item of the tuple it returns\n",
        "m = np.linalg.lstsq(x, y, rcond=None)[0] \n",
        "# Print the slope\n",
        "print('Best fit line slope:', m[0,0])\n",
        "# plot the fit\n",
        "plt.plot(x, y, 'x')\n",
        "plt.plot(x, m[0,0] * x )\n",
        "plt.xlabel('x')\n",
        "plt.ylabel('y')"
      ],
      "execution_count": 3,
      "outputs": [
        {
          "output_type": "stream",
          "text": [
            "Best fit line slope: 0.46290322580645155\n"
          ],
          "name": "stdout"
        },
        {
          "output_type": "execute_result",
          "data": {
            "text/plain": [
              "Text(0, 0.5, 'y')"
            ]
          },
          "metadata": {
            "tags": []
          },
          "execution_count": 3
        },
        {
          "output_type": "display_data",
          "data": {
            "image/png": "[encoded data removed]",
            "text/plain": [
              "<Figure size 432x288 with 1 Axes>"
            ]
          },
          "metadata": {
            "tags": []
          }
        }
      ]
    },
    {
      "cell_type": "markdown",
      "metadata": {
        "id": "USFsexu9jQzS",
        "colab_type": "text"
      },
      "source": [
        "Data can often have more than one inputs $(x_1, \\ldots, x_n)$.\n",
        "This is called multilinear regression in statistics.\n",
        "Here is some data wherein $y$ depends on $\\vec{x}: (x_1, x_2, x_3)$.\n",
        "\n",
        "## Residuals\n",
        "\n",
        "After we have fit a model to the data, the residual is simply the \n",
        "difference between actual $y$ value and that predicted by the model.\n",
        "\n",
        "$$ r = y - A x$$"
      ]
    },
    {
      "cell_type": "code",
      "metadata": {
        "id": "pqCnlq10fzM8",
        "colab_type": "code",
        "colab": {}
      },
      "source": [
        "# Generate some data on x\n",
        "x = np.random.normal(size=(10000,3))\n",
        "# Generate y\n",
        "y = x*np.matrix([[1],[1.2],[-0.4]]) + np.random.normal(size=(10000,1))"
      ],
      "execution_count": 0,
      "outputs": []
    },
    {
      "cell_type": "code",
      "metadata": {
        "id": "1hSuiXHm8u8J",
        "colab_type": "code",
        "colab": {
          "base_uri": "https://localhost:8080/",
          "height": 571
        },
        "outputId": "7df6bb8c-ec17-4863-b8de-2ed80a3ad78d"
      },
      "source": [
        "# lstsq returns a tuple, just take the first item of the tuple it returns\n",
        "m = np.linalg.lstsq(x, y, rcond=None)[0] \n",
        "# Print the slope\n",
        "print('Model: y = %f * x1 + %f * x2 + %f * x3' % (m[0,0], m[1,0], m[2,0]) )\n",
        "residuals = y - x * m\n",
        "plt.hist(residuals, bins=50)"
      ],
      "execution_count": 5,
      "outputs": [
        {
          "output_type": "stream",
          "text": [
            "Model: y = 0.980029 * x1 + 1.192999 * x2 + -0.398122 * x3\n"
          ],
          "name": "stdout"
        },
        {
          "output_type": "execute_result",
          "data": {
            "text/plain": [
              "(array([  1.,   1.,   7.,   5.,  10.,  13.,  30.,  38.,  50.,  86., 106.,\n",
              "        132., 192., 232., 283., 339., 402., 454., 485., 537., 547., 605.,\n",
              "        615., 590., 575., 557., 509., 464., 402., 377., 298., 247., 188.,\n",
              "        164., 138.,  92.,  75.,  48.,  41.,  26.,  14.,  11.,   5.,   2.,\n",
              "          2.,   1.,   0.,   2.,   1.,   1.]),\n",
              " array([-3.48388371, -3.33055771, -3.17723172, -3.02390573, -2.87057973,\n",
              "        -2.71725374, -2.56392774, -2.41060175, -2.25727575, -2.10394976,\n",
              "        -1.95062376, -1.79729777, -1.64397177, -1.49064578, -1.33731978,\n",
              "        -1.18399379, -1.03066779, -0.8773418 , -0.72401581, -0.57068981,\n",
              "        -0.41736382, -0.26403782, -0.11071183,  0.04261417,  0.19594016,\n",
              "         0.34926616,  0.50259215,  0.65591815,  0.80924414,  0.96257014,\n",
              "         1.11589613,  1.26922212,  1.42254812,  1.57587411,  1.72920011,\n",
              "         1.8825261 ,  2.0358521 ,  2.18917809,  2.34250409,  2.49583008,\n",
              "         2.64915608,  2.80248207,  2.95580807,  3.10913406,  3.26246006,\n",
              "         3.41578605,  3.56911204,  3.72243804,  3.87576403,  4.02909003,\n",
              "         4.18241602]),\n",
              " <a list of 50 Patch objects>)"
            ]
          },
          "metadata": {
            "tags": []
          },
          "execution_count": 5
        },
        {
          "output_type": "display_data",
          "data": {
            "image/png": "[encoded data removed]",
            "text/plain": [
              "<Figure size 432x288 with 1 Axes>"
            ]
          },
          "metadata": {
            "tags": []
          }
        }
      ]
    },
    {
      "cell_type": "markdown",
      "metadata": {
        "id": "juIiNe1t9EGp",
        "colab_type": "text"
      },
      "source": [
        "## Thinking Nonlinear?\n",
        "\n",
        "Data does not always have to fit a straight line. Let's generate some data that is not \"straight line\""
      ]
    },
    {
      "cell_type": "code",
      "metadata": {
        "id": "0irP_MSl9IyM",
        "colab_type": "code",
        "colab": {}
      },
      "source": [
        "x = np.matrix(np.arange(0, 10, 0.2)).T\n",
        "m = (x.shape)[0]\n",
        "y = np.sin(x * 2* 3.1415/10) + 0.6*  np.cos(x * 2 * 3.1415/5) - 0.1 * x + 0.005 * np.square(x) + 0.4 + 0.1 * np.random.normal(size=(m,1))"
      ],
      "execution_count": 0,
      "outputs": []
    },
    {
      "cell_type": "code",
      "metadata": {
        "id": "868mgVn89gGr",
        "colab_type": "code",
        "colab": {
          "base_uri": "https://localhost:8080/",
          "height": 296
        },
        "outputId": "b38fda12-1e55-494c-a40d-2ea9edaff826"
      },
      "source": [
        "plt.plot(x, y, 'r.')\n",
        "plt.xlabel('x')\n",
        "plt.ylabel('y')"
      ],
      "execution_count": 7,
      "outputs": [
        {
          "output_type": "execute_result",
          "data": {
            "text/plain": [
              "Text(0, 0.5, 'y')"
            ]
          },
          "metadata": {
            "tags": []
          },
          "execution_count": 7
        },
        {
          "output_type": "display_data",
          "data": {
            "image/png": "[encoded data removed]",
            "text/plain": [
              "<Figure size 432x288 with 1 Axes>"
            ]
          },
          "metadata": {
            "tags": []
          }
        }
      ]
    },
    {
      "cell_type": "code",
      "metadata": {
        "id": "KX6icfA0-OSC",
        "colab_type": "code",
        "colab": {
          "base_uri": "https://localhost:8080/",
          "height": 296
        },
        "outputId": "158b2e5e-bb5c-4165-8c1e-bf94266c533b"
      },
      "source": [
        "m = np.linalg.lstsq(x, y, rcond=None)[0] \n",
        "plt.plot(x, y, 'b.')\n",
        "plt.plot(x, m[0,0]* x, 'r')\n",
        "plt.xlabel('x')\n",
        "plt.ylabel('y')"
      ],
      "execution_count": 8,
      "outputs": [
        {
          "output_type": "execute_result",
          "data": {
            "text/plain": [
              "Text(0, 0.5, 'y')"
            ]
          },
          "metadata": {
            "tags": []
          },
          "execution_count": 8
        },
        {
          "output_type": "display_data",
          "data": {
            "image/png": "[encoded data removed]",
            "text/plain": [
              "<Figure size 432x288 with 1 Axes>"
            ]
          },
          "metadata": {
            "tags": []
          }
        }
      ]
    },
    {
      "cell_type": "markdown",
      "metadata": {
        "id": "p288r-ehJLTR",
        "colab_type": "text"
      },
      "source": [
        "## Augmenting the Data\n",
        "\n",
        "$$x = \\left[ \\begin{array}{c} x(0) \\\\ x(1) \\\\ \\vdots \\\\ x(m) \\\\ \\end{array}\\right]$$\n",
        "\n",
        "Instead make a matrix\n",
        "\n",
        "$$X = \\left[ \\begin{array}{ccccc}\n",
        "1 & x(0) & x(0)^2 & \\sin(2 \\pi x(0)/10) & \\cos(2 \\pi x(0)/5) \\\\\n",
        "1 & x(1) & x(1)^2 & \\sin(2 \\pi x(1)/10) & \\cos(2 \\pi x(1)/5) \\\\\n",
        "1 & x(2) & x(2)^2 & \\sin(2 \\pi x(2)/10) & \\cos(2 \\pi x(2)/5) \\\\\n",
        "\\vdots &  & & \\ddots & \\vdots \\\\\n",
        "1 & x(m) & x(m)^2 & \\sin(2 \\pi x(m)/10) & \\cos(2 \\pi x(m)/5) \\\\\n",
        "\\end{array}\\right] $$\n",
        "\n"
      ]
    },
    {
      "cell_type": "code",
      "metadata": {
        "id": "smxAc7NW-287",
        "colab_type": "code",
        "colab": {}
      },
      "source": [
        "(m,_) = x.shape\n",
        "# Create the matrix X\n",
        "X = np.concatenate(\n",
        "    (\n",
        "    np.ones(shape=(m,1)),\n",
        "    x,\n",
        "    np.square(x),\n",
        "    np.sin(2*3.1415*x/10.0),\n",
        "    np.cos(2*3.1415*x/5.0)\n",
        "    ), \n",
        "    axis = 1\n",
        ")"
      ],
      "execution_count": 0,
      "outputs": []
    },
    {
      "cell_type": "code",
      "metadata": {
        "id": "K4OgYEsoKa7V",
        "colab_type": "code",
        "colab": {
          "base_uri": "https://localhost:8080/",
          "height": 54
        },
        "outputId": "b50f013c-ce0d-46d5-af95-76d30edf90af"
      },
      "source": [
        "c = np.linalg.lstsq(X,y,rcond=None)[0]\n",
        "print('Model: %f + %f * x + %f * x^2 + %f * sin(2 pi x/10) + %f * cos(2 pi x/5)' %(c[0], c[1], c[2], c[3], c[4]))"
      ],
      "execution_count": 10,
      "outputs": [
        {
          "output_type": "stream",
          "text": [
            "Model: 0.427821 + -0.115104 * x + 0.006263 * x^2 + 1.025988 * sin(2 pi x/10) + 0.598762 * cos(2 pi x/5)\n"
          ],
          "name": "stdout"
        }
      ]
    },
    {
      "cell_type": "code",
      "metadata": {
        "id": "rfxpyGOqKsPj",
        "colab_type": "code",
        "colab": {
          "base_uri": "https://localhost:8080/",
          "height": 296
        },
        "outputId": "440fffc4-b702-45a6-869d-0d923858201d"
      },
      "source": [
        "modelPredictions = c[0,0] + c[1,0] * x + c[2,0]*np.square(x) + c[3,0] *(np.sin(2*3.1415*x/10)) + c[4,0] * np.cos(2 * 3.1415*x/5)\n",
        "plt.plot(x, y, 'b.')\n",
        "plt.plot(x,modelPredictions , 'r')\n",
        "plt.xlabel('x')\n",
        "plt.ylabel('y')"
      ],
      "execution_count": 11,
      "outputs": [
        {
          "output_type": "execute_result",
          "data": {
            "text/plain": [
              "Text(0, 0.5, 'y')"
            ]
          },
          "metadata": {
            "tags": []
          },
          "execution_count": 11
        },
        {
          "output_type": "display_data",
          "data": {
            "image/png": "[encoded data removed]",
            "text/plain": [
              "<Figure size 432x288 with 1 Axes>"
            ]
          },
          "metadata": {
            "tags": []
          }
        }
      ]
    },
    {
      "cell_type": "code",
      "metadata": {
        "id": "7eETal3jLd68",
        "colab_type": "code",
        "colab": {
          "base_uri": "https://localhost:8080/",
          "height": 367
        },
        "outputId": "98631f56-f5c9-4c98-b1e9-9a8892631628"
      },
      "source": [
        "residuals = y - modelPredictions\n",
        "plt.hist(residuals, bins=10, density=True)"
      ],
      "execution_count": 12,
      "outputs": [
        {
          "output_type": "execute_result",
          "data": {
            "text/plain": [
              "(array([1.47115727, 1.47115727, 0.98077151, 3.43270029, 3.92308604,\n",
              "        6.37501482, 2.45192878, 1.96154302, 1.96154302, 0.49038576]),\n",
              " array([-0.20192463, -0.16114041, -0.12035619, -0.07957198, -0.03878776,\n",
              "         0.00199646,  0.04278068,  0.0835649 ,  0.12434912,  0.16513334,\n",
              "         0.20591756]),\n",
              " <a list of 10 Patch objects>)"
            ]
          },
          "metadata": {
            "tags": []
          },
          "execution_count": 12
        },
        {
          "output_type": "display_data",
          "data": {
            "image/png": "[encoded data removed]",
            "text/plain": [
              "<Figure size 432x288 with 1 Axes>"
            ]
          },
          "metadata": {
            "tags": []
          }
        }
      ]
    },
    {
      "cell_type": "code",
      "metadata": {
        "id": "zv3JpbJgLyPq",
        "colab_type": "code",
        "colab": {}
      },
      "source": [
        "# OPEN A CSV FILE WITH DATA\n",
        "# REMEMBER TO UPLOAD THE FILE\n",
        "f = open('euro-usd-data.csv')\n",
        "ts = []\n",
        "rates = []\n",
        "for line in f:\n",
        "    lineEntries = line.split(',')\n",
        "    ts.append([float(lineEntries[0])])\n",
        "    rates.append([float(lineEntries[1])])\n",
        "f.close()\n",
        "\n",
        "t0 = np.matrix(ts)\n",
        "r0 = np.matrix(rates)\n",
        "\n",
        "times = t0[0:55, :]\n",
        "rates = r0[0:55, :]\n",
        "\n",
        "# Hold back 5 months of data\n",
        "predTimes = t0[54:60, :]\n",
        "predRatesGroundTruth = r0[54:60,:]\n",
        "\n"
      ],
      "execution_count": 0,
      "outputs": []
    },
    {
      "cell_type": "code",
      "metadata": {
        "id": "ql8oKY0pPE6s",
        "colab_type": "code",
        "colab": {
          "base_uri": "https://localhost:8080/",
          "height": 296
        },
        "outputId": "47fe5066-f4b3-4045-e2d3-e2192e365c62"
      },
      "source": [
        "plt.plot(times, rates,'.')\n",
        "plt.xlabel('Time (Months since Jan 1 2015)')\n",
        "plt.ylabel('Euro vs. USD conversion rate')"
      ],
      "execution_count": 161,
      "outputs": [
        {
          "output_type": "execute_result",
          "data": {
            "text/plain": [
              "Text(0, 0.5, 'Euro vs. USD conversion rate')"
            ]
          },
          "metadata": {
            "tags": []
          },
          "execution_count": 161
        },
        {
          "output_type": "display_data",
          "data": {
            "image/png": "[encoded data removed]",
            "text/plain": [
              "<Figure size 432x288 with 1 Axes>"
            ]
          },
          "metadata": {
            "tags": []
          }
        }
      ]
    },
    {
      "cell_type": "code",
      "metadata": {
        "id": "lyu7XEgzQe1o",
        "colab_type": "code",
        "colab": {}
      },
      "source": [
        "m = times.shape[0]\n",
        "pi = 3.1415\n",
        "X = np.concatenate(  (np.ones((m,1)), times, np.square(times), np.power(times, 3)),  axis = 1 )\n",
        "for i in range(3,60):\n",
        "    X = np.concatenate((X, np.sin(2*pi*times/i), np.cos(2*pi*times/i)), axis = 1)\n"
      ],
      "execution_count": 0,
      "outputs": []
    },
    {
      "cell_type": "code",
      "metadata": {
        "id": "JjOAMWCGW0pQ",
        "colab_type": "code",
        "colab": {
          "base_uri": "https://localhost:8080/",
          "height": 1000
        },
        "outputId": "1f1a82b9-ed07-46ef-af69-8d7474cc8756"
      },
      "source": [
        "mdl = np.linalg.lstsq(X, rates, rcond=None)[0]\n",
        "print(mdl)"
      ],
      "execution_count": 192,
      "outputs": [
        {
          "output_type": "stream",
          "text": [
            "[[ 1.53648565e+05]\n",
            " [-6.66444221e+04]\n",
            " [ 2.64086369e+03]\n",
            " [-2.39649971e+01]\n",
            " [ 5.96236004e-04]\n",
            " [ 7.57867929e-04]\n",
            " [ 2.82816957e-03]\n",
            " [-9.85504537e-04]\n",
            " [ 7.50010976e-03]\n",
            " [ 4.02773589e-03]\n",
            " [-2.06685219e-01]\n",
            " [-7.75422593e-02]\n",
            " [-8.25642428e-01]\n",
            " [-6.05462895e+00]\n",
            " [-1.30093403e+01]\n",
            " [-1.25494363e+02]\n",
            " [-1.16661811e+03]\n",
            " [-1.18138137e+03]\n",
            " [-1.24592943e+04]\n",
            " [ 4.96200437e+03]\n",
            " [ 2.15125373e+04]\n",
            " [ 6.10287133e+04]\n",
            " [ 1.48005521e+05]\n",
            " [-9.47526184e+04]\n",
            " [-1.88659964e+05]\n",
            " [-1.18383438e+05]\n",
            " [ 2.38347203e+03]\n",
            " [ 1.68603136e+04]\n",
            " [-1.12790940e+05]\n",
            " [ 1.10263117e+05]\n",
            " [-5.52583346e+04]\n",
            " [-1.11795946e+03]\n",
            " [ 6.48457548e+04]\n",
            " [ 4.08383632e+04]\n",
            " [ 4.38353940e+04]\n",
            " [ 1.07574400e+05]\n",
            " [-1.38875021e+04]\n",
            " [ 7.25541822e+04]\n",
            " [-7.57783754e+03]\n",
            " [-1.41817303e+03]\n",
            " [ 4.26154956e+04]\n",
            " [-3.43761433e+04]\n",
            " [ 7.99984761e+04]\n",
            " [-1.76939253e+04]\n",
            " [ 7.93845764e+04]\n",
            " [ 1.51346874e+04]\n",
            " [ 5.04323968e+04]\n",
            " [ 3.39207332e+04]\n",
            " [ 1.51518122e+04]\n",
            " [ 2.91126901e+04]\n",
            " [-9.68006258e+03]\n",
            " [ 7.21651609e+03]\n",
            " [-1.79523144e+04]\n",
            " [-1.96985557e+04]\n",
            " [-1.19437069e+04]\n",
            " [-4.15333261e+04]\n",
            " [ 2.14173544e+03]\n",
            " [-5.30514019e+04]\n",
            " [ 1.78546299e+04]\n",
            " [-5.35713594e+04]\n",
            " [ 3.04342057e+04]\n",
            " [-4.53539171e+04]\n",
            " [ 3.73585623e+04]\n",
            " [-3.18735858e+04]\n",
            " [ 3.80675406e+04]\n",
            " [-1.65984497e+04]\n",
            " [ 3.33436589e+04]\n",
            " [-2.29420034e+03]\n",
            " [ 2.46821344e+04]\n",
            " [ 9.23392333e+03]\n",
            " [ 1.37869865e+04]\n",
            " [ 1.70692886e+04]\n",
            " [ 2.25142999e+03]\n",
            " [ 2.10504529e+04]\n",
            " [-8.63231079e+03]\n",
            " [ 2.14943627e+04]\n",
            " [-1.79359507e+04]\n",
            " [ 1.90335038e+04]\n",
            " [-2.50738782e+04]\n",
            " [ 1.44383918e+04]\n",
            " [-2.97764709e+04]\n",
            " [ 8.47701525e+03]\n",
            " [-3.20082540e+04]\n",
            " [ 1.86419215e+03]\n",
            " [-3.19122483e+04]\n",
            " [-4.79184781e+03]\n",
            " [-2.97471721e+04]\n",
            " [-1.10158574e+04]\n",
            " [-2.58202763e+04]\n",
            " [-1.64522640e+04]\n",
            " [-2.04886587e+04]\n",
            " [-2.08552628e+04]\n",
            " [-1.40833479e+04]\n",
            " [-2.40933500e+04]\n",
            " [-6.93194335e+03]\n",
            " [-2.60940457e+04]\n",
            " [ 6.76238862e+02]\n",
            " [-2.68651430e+04]\n",
            " [ 8.48809263e+03]\n",
            " [-2.64573298e+04]\n",
            " [ 1.62975982e+04]\n",
            " [-2.49542835e+04]\n",
            " [ 2.39280463e+04]\n",
            " [-2.24553991e+04]\n",
            " [ 3.12509335e+04]\n",
            " [-1.90822797e+04]\n",
            " [ 3.81562858e+04]\n",
            " [-1.49583563e+04]\n",
            " [ 4.45742589e+04]\n",
            " [-1.01990916e+04]\n",
            " [ 5.04558528e+04]\n",
            " [-4.92122048e+03]\n",
            " [ 5.57751605e+04]\n",
            " [ 7.58572543e+02]\n",
            " [ 6.05178205e+04]\n",
            " [ 6.74672953e+03]\n",
            " [ 6.46878622e+04]\n",
            " [ 1.29510227e+04]]\n"
          ],
          "name": "stdout"
        }
      ]
    },
    {
      "cell_type": "code",
      "metadata": {
        "id": "R0zwzgFaXVjd",
        "colab_type": "code",
        "colab": {
          "base_uri": "https://localhost:8080/",
          "height": 296
        },
        "outputId": "33302795-22ff-4703-bec5-f8a29fc51cf8"
      },
      "source": [
        "plt.plot(times, rates,'r.',markerSize=7)\n",
        "plt.plot(times, X*mdl,'b')\n",
        "plt.xlabel('Time (Months since Jan 1 2015)')\n",
        "plt.ylabel('Euro vs. USD conversion rate')"
      ],
      "execution_count": 193,
      "outputs": [
        {
          "output_type": "execute_result",
          "data": {
            "text/plain": [
              "Text(0, 0.5, 'Euro vs. USD conversion rate')"
            ]
          },
          "metadata": {
            "tags": []
          },
          "execution_count": 193
        },
        {
          "output_type": "display_data",
          "data": {
            "image/png": "[encoded data removed]",
            "text/plain": [
              "<Figure size 432x288 with 1 Axes>"
            ]
          },
          "metadata": {
            "tags": []
          }
        }
      ]
    },
    {
      "cell_type": "code",
      "metadata": {
        "id": "a1X-ooSZbu4i",
        "colab_type": "code",
        "colab": {
          "base_uri": "https://localhost:8080/",
          "height": 387
        },
        "outputId": "5656da36-fd03-4df1-a2cd-18eab5ded8ad"
      },
      "source": [
        "residuals = X * mdl - rates\n",
        "plt.hist(residuals, bins=12, density=True)"
      ],
      "execution_count": 194,
      "outputs": [
        {
          "output_type": "execute_result",
          "data": {
            "text/plain": [
              "(array([ 11.95413501,   0.        ,  47.81654005,  59.77067506,\n",
              "         23.90827002, 119.54135012, 191.2661602 ,  71.72481007,\n",
              "         59.77067506,  11.95413501,  47.81654005,  11.95413501]),\n",
              " array([-0.00952013, -0.00799917, -0.0064782 , -0.00495724, -0.00343627,\n",
              "        -0.00191531, -0.00039434,  0.00112662,  0.00264759,  0.00416855,\n",
              "         0.00568952,  0.00721048,  0.00873145]),\n",
              " <a list of 12 Patch objects>)"
            ]
          },
          "metadata": {
            "tags": []
          },
          "execution_count": 194
        },
        {
          "output_type": "display_data",
          "data": {
            "image/png": "[encoded data removed]",
            "text/plain": [
              "<Figure size 432x288 with 1 Axes>"
            ]
          },
          "metadata": {
            "tags": []
          }
        }
      ]
    },
    {
      "cell_type": "code",
      "metadata": {
        "id": "Eca6lIn3XpvO",
        "colab_type": "code",
        "colab": {
          "base_uri": "https://localhost:8080/",
          "height": 119
        },
        "outputId": "aafe397b-644c-447e-e802-cf604695541b"
      },
      "source": [
        "newTimes = predTimes\n",
        "newM = np.shape(newTimes)[0]\n",
        "newX = np.concatenate(  (np.ones((newM,1)), newTimes, np.square(newTimes), np.power(newTimes, 3)), axis = 1 )\n",
        "for i in range(3,60):\n",
        "    newX = np.concatenate((newX, np.sin(2*pi*newTimes/i), np.cos(2*pi*newTimes/i)), axis = 1)\n",
        "\n",
        "predRatesL2 = newX * mdl\n",
        "print(predRatesL2)"
      ],
      "execution_count": 195,
      "outputs": [
        {
          "output_type": "stream",
          "text": [
            "[[9.07174050e-01]\n",
            " [4.44571901e+00]\n",
            " [3.77510037e+01]\n",
            " [2.13086566e+02]\n",
            " [8.83381005e+02]\n",
            " [2.94334840e+03]]\n"
          ],
          "name": "stdout"
        }
      ]
    },
    {
      "cell_type": "code",
      "metadata": {
        "id": "gd8d9SRvX37u",
        "colab_type": "code",
        "colab": {
          "base_uri": "https://localhost:8080/",
          "height": 296
        },
        "outputId": "5027945a-2de8-4dd4-bff2-7f4915f0e6cc"
      },
      "source": [
        "plt.plot(times, rates,'r.',markerSize=7)\n",
        "plt.plot(times, X*mdl,'b')\n",
        "plt.plot(newTimes, predRatesL2,'r')\n",
        "plt.xlabel('Time (Months since Jan 1 2015)')\n",
        "plt.ylabel('Euro vs. USD conversion rate')"
      ],
      "execution_count": 196,
      "outputs": [
        {
          "output_type": "execute_result",
          "data": {
            "text/plain": [
              "Text(0, 0.5, 'Euro vs. USD conversion rate')"
            ]
          },
          "metadata": {
            "tags": []
          },
          "execution_count": 196
        },
        {
          "output_type": "display_data",
          "data": {
            "image/png": "[encoded data removed]",
            "text/plain": [
              "<Figure size 432x288 with 1 Axes>"
            ]
          },
          "metadata": {
            "tags": []
          }
        }
      ]
    },
    {
      "cell_type": "markdown",
      "metadata": {
        "id": "BVfn6vVug_DS",
        "colab_type": "text"
      },
      "source": [
        "## Norms\n",
        "\n",
        "L1, L2, Lp and Linfty norms"
      ]
    },
    {
      "cell_type": "code",
      "metadata": {
        "id": "yMHoP3Myjcaw",
        "colab_type": "code",
        "colab": {
          "base_uri": "https://localhost:8080/",
          "height": 313
        },
        "outputId": "1d25bec7-19c8-4a19-f146-185dd64359ac"
      },
      "source": [
        "x = np.array([1, 2, 1, 0, -0.5, 1])\n",
        "v2 = np.linalg.norm(x, ord=2)\n",
        "v1 = np.linalg.norm(x, ord=1)\n",
        "v3 = np.linalg.norm(x, ord=3.0)\n",
        "vinf = np.linalg.norm(x, ord=float('inf'))\n",
        "print('L2 norm: %f, L1 norm: %f, L3 norm: %f, Linfty norm: %f' % (v2, v1, v3, vinf))\n",
        "ords = list(range(1, 15))\n",
        "norms = [np.linalg.norm(x, ord=j) for j in ords] \n",
        "plt.plot(ords, norms, '-x', markerSize=8)\n",
        "plt.xlabel('p')\n",
        "plt.ylabel('L_p norm')\n"
      ],
      "execution_count": 197,
      "outputs": [
        {
          "output_type": "stream",
          "text": [
            "L2 norm: 2.692582, L1 norm: 5.500000, L3 norm: 2.232373, Linfty norm: 2.000000\n"
          ],
          "name": "stdout"
        },
        {
          "output_type": "execute_result",
          "data": {
            "text/plain": [
              "Text(0, 0.5, 'L_p norm')"
            ]
          },
          "metadata": {
            "tags": []
          },
          "execution_count": 197
        },
        {
          "output_type": "display_data",
          "data": {
            "image/png": "[encoded data removed]",
            "text/plain": [
              "<Figure size 432x288 with 1 Axes>"
            ]
          },
          "metadata": {
            "tags": []
          }
        }
      ]
    },
    {
      "cell_type": "markdown",
      "metadata": {
        "id": "Tz7pQGDik1KK",
        "colab_type": "text"
      },
      "source": [
        "# Regularized Least Squares"
      ]
    },
    {
      "cell_type": "code",
      "metadata": {
        "id": "X9dHm-qkZtEr",
        "colab_type": "code",
        "colab": {}
      },
      "source": [
        "import pulp\n",
        "\n",
        "def solveL1NormLeastSquares(A, b):\n",
        "    (m,n) = np.shape(A)\n",
        "    assert(np.shape(b) == (m,1))\n",
        "    problem = pulp.LpProblem('L1LeastSquares',pulp.LpMinimize)\n",
        "    xVars = pulp.LpVariable.dicts(\"x\", range(n))\n",
        "    tVars = pulp.LpVariable.dicts(\"t\", range(m), 0)\n",
        "    regVars = pulp.LpVariable.dicts(\"r\", range(n), 0)\n",
        "    problem += pulp.lpSum([ tVars[i] for i in range(m) ]) + pulp.lpSum([regVars[i] for i in range(n)]), \"Sum of all the t and regvariables\"\n",
        "    for i in range(m):\n",
        "        problem += pulp.lpSum([ A[i,j] * xVars[j] for j in range(n)]) <= b[i,0] + tVars[i] ## Sum_j A(i,j) x(j) <= b(i) + t(i)\n",
        "        problem += pulp.lpSum([ A[i,j] * xVars[j] for j in range(n) ]) >= b[i,0] -tVars[i] ## Sum_j A(i,j) x(j) >= b(i) - t(i)\n",
        "    for j in range(n):\n",
        "        problem += (xVars[j] <= regVars[j])\n",
        "        problem += (xVars[j] >= -regVars[j])\n",
        "    problem.solve()\n",
        "    # Each of the variables is printed with it's resolved optimum value\n",
        "    for v in problem.variables():\n",
        "        print(v.name, \"=\", v.varValue)\n",
        "    xList = [ xVars[i].varValue for i in range(n) ]\n",
        "    x = np.matrix(xList).reshape((n,1))\n",
        "    res = A * x - b\n",
        "    return (x, res)"
      ],
      "execution_count": 0,
      "outputs": []
    },
    {
      "cell_type": "code",
      "metadata": {
        "id": "P5FoadTlbi2i",
        "colab_type": "code",
        "colab": {
          "base_uri": "https://localhost:8080/",
          "height": 1000
        },
        "outputId": "e61d9d45-accf-49e5-a221-50bab936d2f2"
      },
      "source": [
        "(l1mdl, res) = solveL1NormLeastSquares(X, rates)"
      ],
      "execution_count": 199,
      "outputs": [
        {
          "output_type": "stream",
          "text": [
            "r_0 = 0.73168853\n",
            "r_1 = 0.035949513\n",
            "r_10 = 0.0018923922\n",
            "r_100 = 0.0\n",
            "r_101 = 0.0\n",
            "r_102 = 0.0\n",
            "r_103 = 0.0\n",
            "r_104 = 0.0\n",
            "r_105 = 0.0\n",
            "r_106 = 0.0\n",
            "r_107 = 0.0\n",
            "r_108 = 0.0\n",
            "r_109 = 0.0\n",
            "r_11 = 0.0034826809\n",
            "r_110 = 0.0\n",
            "r_111 = 0.0\n",
            "r_112 = 0.0\n",
            "r_113 = 0.0\n",
            "r_114 = 0.0\n",
            "r_115 = 0.0\n",
            "r_116 = 0.0\n",
            "r_117 = 0.0\n",
            "r_12 = 0.00034194694\n",
            "r_13 = 0.0\n",
            "r_14 = 0.0073121385\n",
            "r_15 = 0.0059602753\n",
            "r_16 = 0.0\n",
            "r_17 = 0.0\n",
            "r_18 = 0.0\n",
            "r_19 = 0.0\n",
            "r_2 = 0.0016290175\n",
            "r_20 = 0.0\n",
            "r_21 = 0.011643065\n",
            "r_22 = 0.0\n",
            "r_23 = 0.0038182128\n",
            "r_24 = 0.0\n",
            "r_25 = 0.009088277\n",
            "r_26 = 0.0\n",
            "r_27 = 0.0018739382\n",
            "r_28 = 0.0\n",
            "r_29 = 0.0\n",
            "r_3 = 1.9245267e-05\n",
            "r_30 = 0.0\n",
            "r_31 = 0.0\n",
            "r_32 = 0.0\n",
            "r_33 = 0.0\n",
            "r_34 = 0.0\n",
            "r_35 = 0.0\n",
            "r_36 = 0.0\n",
            "r_37 = 0.0\n",
            "r_38 = 0.0\n",
            "r_39 = 0.0\n",
            "r_4 = 0.0018702332\n",
            "r_40 = 0.0\n",
            "r_41 = 0.0\n",
            "r_42 = 0.0\n",
            "r_43 = 0.0\n",
            "r_44 = 0.0\n",
            "r_45 = 0.017016837\n",
            "r_46 = 0.0\n",
            "r_47 = 0.034400613\n",
            "r_48 = 0.0\n",
            "r_49 = 0.0\n",
            "r_5 = 9.7399308e-05\n",
            "r_50 = 0.0\n",
            "r_51 = 0.0\n",
            "r_52 = 0.0\n",
            "r_53 = 0.0\n",
            "r_54 = 0.0\n",
            "r_55 = 0.0\n",
            "r_56 = 0.0\n",
            "r_57 = 0.0\n",
            "r_58 = 0.0\n",
            "r_59 = 0.0\n",
            "r_6 = 0.0055394628\n",
            "r_60 = 0.0\n",
            "r_61 = 0.0\n",
            "r_62 = 0.0\n",
            "r_63 = 0.0\n",
            "r_64 = 0.0\n",
            "r_65 = 0.0\n",
            "r_66 = 0.0\n",
            "r_67 = 0.0\n",
            "r_68 = 0.0\n",
            "r_69 = 0.0\n",
            "r_7 = 0.002148855\n",
            "r_70 = 0.0\n",
            "r_71 = 0.0\n",
            "r_72 = 0.0\n",
            "r_73 = 0.0\n",
            "r_74 = 0.0\n",
            "r_75 = 0.012281614\n",
            "r_76 = 0.0\n",
            "r_77 = 0.049698819\n",
            "r_78 = 0.0\n",
            "r_79 = 0.0\n",
            "r_8 = 0.0021369834\n",
            "r_80 = 0.0\n",
            "r_81 = 0.0\n",
            "r_82 = 0.0\n",
            "r_83 = 0.0\n",
            "r_84 = 0.0\n",
            "r_85 = 0.0\n",
            "r_86 = 0.0\n",
            "r_87 = 0.0\n",
            "r_88 = 0.0\n",
            "r_89 = 0.0\n",
            "r_9 = 0.0\n",
            "r_90 = 0.0\n",
            "r_91 = 0.0\n",
            "r_92 = 0.0\n",
            "r_93 = 0.0\n",
            "r_94 = 0.0\n",
            "r_95 = 0.0\n",
            "r_96 = 0.0\n",
            "r_97 = 0.0\n",
            "r_98 = 0.0\n",
            "r_99 = 0.0\n",
            "t_0 = 0.012093017\n",
            "t_1 = 0.0\n",
            "t_10 = 0.0087009535\n",
            "t_11 = 0.0\n",
            "t_12 = 0.0048133841\n",
            "t_13 = 0.0085357911\n",
            "t_14 = 0.0\n",
            "t_15 = 0.0\n",
            "t_16 = 0.0047036886\n",
            "t_17 = 0.0\n",
            "t_18 = 0.0053597865\n",
            "t_19 = 0.0\n",
            "t_2 = 0.018072154\n",
            "t_20 = 0.00086765139\n",
            "t_21 = 0.014128335\n",
            "t_22 = 0.0049880282\n",
            "t_23 = 0.0\n",
            "t_24 = 0.0076477501\n",
            "t_25 = 0.00082115434\n",
            "t_26 = 0.0\n",
            "t_27 = 0.010921856\n",
            "t_28 = 0.0\n",
            "t_29 = 0.00424464\n",
            "t_3 = 0.012548747\n",
            "t_30 = 0.0\n",
            "t_31 = 0.0034140663\n",
            "t_32 = 0.0\n",
            "t_33 = 0.006905641\n",
            "t_34 = 0.0\n",
            "t_35 = 0.0\n",
            "t_36 = 0.0\n",
            "t_37 = 0.0021362484\n",
            "t_38 = 0.022751455\n",
            "t_39 = 0.013430813\n",
            "t_4 = 0.0047326502\n",
            "t_40 = 0.011424636\n",
            "t_41 = 0.0\n",
            "t_42 = 0.0\n",
            "t_43 = 0.0028281137\n",
            "t_44 = 0.0006738207\n",
            "t_45 = 0.0\n",
            "t_46 = 0.0\n",
            "t_47 = 0.0039304568\n",
            "t_48 = 1.3829914e-05\n",
            "t_49 = 0.0\n",
            "t_5 = 0.0038403453\n",
            "t_50 = 0.0091452783\n",
            "t_51 = 0.0\n",
            "t_52 = 0.0034002252\n",
            "t_53 = 3.476487e-05\n",
            "t_54 = 0.0\n",
            "t_6 = 0.0\n",
            "t_7 = 0.015920816\n",
            "t_8 = 0.0081435259\n",
            "t_9 = 0.0044537007\n",
            "x_0 = 0.73168853\n",
            "x_1 = 0.035949513\n",
            "x_10 = -0.0018923922\n",
            "x_100 = 0.0\n",
            "x_101 = 0.0\n",
            "x_102 = 0.0\n",
            "x_103 = 0.0\n",
            "x_104 = 0.0\n",
            "x_105 = 0.0\n",
            "x_106 = 0.0\n",
            "x_107 = 0.0\n",
            "x_108 = 0.0\n",
            "x_109 = 0.0\n",
            "x_11 = -0.0034826809\n",
            "x_110 = 0.0\n",
            "x_111 = 0.0\n",
            "x_112 = 0.0\n",
            "x_113 = 0.0\n",
            "x_114 = 0.0\n",
            "x_115 = 0.0\n",
            "x_116 = 0.0\n",
            "x_117 = 0.0\n",
            "x_12 = -0.00034194694\n",
            "x_13 = 0.0\n",
            "x_14 = 0.0073121385\n",
            "x_15 = 0.0059602753\n",
            "x_16 = 0.0\n",
            "x_17 = 0.0\n",
            "x_18 = 0.0\n",
            "x_19 = 0.0\n",
            "x_2 = -0.0016290175\n",
            "x_20 = 0.0\n",
            "x_21 = 0.011643065\n",
            "x_22 = 0.0\n",
            "x_23 = 0.0038182128\n",
            "x_24 = 0.0\n",
            "x_25 = 0.009088277\n",
            "x_26 = 0.0\n",
            "x_27 = 0.0018739382\n",
            "x_28 = 0.0\n",
            "x_29 = 0.0\n",
            "x_3 = 1.9245267e-05\n",
            "x_30 = 0.0\n",
            "x_31 = 0.0\n",
            "x_32 = 0.0\n",
            "x_33 = 0.0\n",
            "x_34 = 0.0\n",
            "x_35 = 0.0\n",
            "x_36 = 0.0\n",
            "x_37 = 0.0\n",
            "x_38 = 0.0\n",
            "x_39 = 0.0\n",
            "x_4 = -0.0018702332\n",
            "x_40 = 0.0\n",
            "x_41 = 0.0\n",
            "x_42 = 0.0\n",
            "x_43 = 0.0\n",
            "x_44 = 0.0\n",
            "x_45 = 0.017016837\n",
            "x_46 = 0.0\n",
            "x_47 = 0.034400613\n",
            "x_48 = 0.0\n",
            "x_49 = 0.0\n",
            "x_5 = 9.7399308e-05\n",
            "x_50 = 0.0\n",
            "x_51 = 0.0\n",
            "x_52 = 0.0\n",
            "x_53 = 0.0\n",
            "x_54 = 0.0\n",
            "x_55 = 0.0\n",
            "x_56 = 0.0\n",
            "x_57 = 0.0\n",
            "x_58 = 0.0\n",
            "x_59 = 0.0\n",
            "x_6 = 0.0055394628\n",
            "x_60 = 0.0\n",
            "x_61 = 0.0\n",
            "x_62 = 0.0\n",
            "x_63 = 0.0\n",
            "x_64 = 0.0\n",
            "x_65 = 0.0\n",
            "x_66 = 0.0\n",
            "x_67 = 0.0\n",
            "x_68 = 0.0\n",
            "x_69 = 0.0\n",
            "x_7 = -0.002148855\n",
            "x_70 = 0.0\n",
            "x_71 = 0.0\n",
            "x_72 = 0.0\n",
            "x_73 = 0.0\n",
            "x_74 = 0.0\n",
            "x_75 = 0.012281614\n",
            "x_76 = 0.0\n",
            "x_77 = 0.049698819\n",
            "x_78 = 0.0\n",
            "x_79 = 0.0\n",
            "x_8 = 0.0021369834\n",
            "x_80 = 0.0\n",
            "x_81 = 0.0\n",
            "x_82 = 0.0\n",
            "x_83 = 0.0\n",
            "x_84 = 0.0\n",
            "x_85 = 0.0\n",
            "x_86 = 0.0\n",
            "x_87 = 0.0\n",
            "x_88 = 0.0\n",
            "x_89 = 0.0\n",
            "x_9 = 0.0\n",
            "x_90 = 0.0\n",
            "x_91 = 0.0\n",
            "x_92 = 0.0\n",
            "x_93 = 0.0\n",
            "x_94 = 0.0\n",
            "x_95 = 0.0\n",
            "x_96 = 0.0\n",
            "x_97 = 0.0\n",
            "x_98 = 0.0\n",
            "x_99 = 0.0\n"
          ],
          "name": "stdout"
        }
      ]
    },
    {
      "cell_type": "code",
      "metadata": {
        "id": "Uhqdxs0lb-bR",
        "colab_type": "code",
        "colab": {
          "base_uri": "https://localhost:8080/",
          "height": 296
        },
        "outputId": "789daff2-065a-4dfd-ed30-833baa723a6b"
      },
      "source": [
        "plt.plot(times, rates,'r.',markerSize=7)\n",
        "plt.plot(times, X*l1mdl,'b')\n",
        "plt.xlabel('Time (Months since Jan 1 2015)')\n",
        "plt.ylabel('Euro vs. USD conversion rate')"
      ],
      "execution_count": 200,
      "outputs": [
        {
          "output_type": "execute_result",
          "data": {
            "text/plain": [
              "Text(0, 0.5, 'Euro vs. USD conversion rate')"
            ]
          },
          "metadata": {
            "tags": []
          },
          "execution_count": 200
        },
        {
          "output_type": "display_data",
          "data": {
            "image/png": "[encoded data removed]",
            "text/plain": [
              "<Figure size 432x288 with 1 Axes>"
            ]
          },
          "metadata": {
            "tags": []
          }
        }
      ]
    },
    {
      "cell_type": "code",
      "metadata": {
        "id": "dIXR3CTUcJ_7",
        "colab_type": "code",
        "colab": {
          "base_uri": "https://localhost:8080/",
          "height": 562
        },
        "outputId": "10fe32e9-5e07-453c-e9b4-20d9a8a538f3"
      },
      "source": [
        "l1residuals = X * l1mdl - rates\n",
        "plt.hist(l1residuals, bins=12, density=True, color='red')\n",
        "plt.title('L1 norm residuals')\n",
        "plt.figure(2)\n",
        "plt.hist(residuals, bins=12, density=True)\n",
        "plt.title('L2 norm residuals')\n"
      ],
      "execution_count": 201,
      "outputs": [
        {
          "output_type": "execute_result",
          "data": {
            "text/plain": [
              "Text(0.5, 1.0, 'L2 norm residuals')"
            ]
          },
          "metadata": {
            "tags": []
          },
          "execution_count": 201
        },
        {
          "output_type": "display_data",
          "data": {
            "image/png": "[encoded data removed]",
            "text/plain": [
              "<Figure size 432x288 with 1 Axes>"
            ]
          },
          "metadata": {
            "tags": []
          }
        },
        {
          "output_type": "display_data",
          "data": {
            "image/png": "[encoded data removed]",
            "text/plain": [
              "<Figure size 432x288 with 1 Axes>"
            ]
          },
          "metadata": {
            "tags": []
          }
        }
      ]
    },
    {
      "cell_type": "code",
      "metadata": {
        "id": "qUxt_1k0c3cy",
        "colab_type": "code",
        "colab": {
          "base_uri": "https://localhost:8080/",
          "height": 119
        },
        "outputId": "519ea4d4-a4b1-4beb-b973-e5e134fa6b0f"
      },
      "source": [
        "newPredsL1 = newX * l1mdl\n",
        "print(newPredsL1)"
      ],
      "execution_count": 202,
      "outputs": [
        {
          "output_type": "stream",
          "text": [
            "[[0.90719877]\n",
            " [0.93944539]\n",
            " [0.96974538]\n",
            " [0.98565124]\n",
            " [1.00668781]\n",
            " [1.04858758]]\n"
          ],
          "name": "stdout"
        }
      ]
    },
    {
      "cell_type": "code",
      "metadata": {
        "id": "twwg1RFeeJSW",
        "colab_type": "code",
        "colab": {
          "base_uri": "https://localhost:8080/",
          "height": 279
        },
        "outputId": "5ffc85be-5daa-4c10-da02-fd5a82f51350"
      },
      "source": [
        "plt.plot(t0, r0,'r.',markerSize=7)\n",
        "plt.plot(times, X*l1mdl,'b')\n",
        "plt.plot(newTimes, newPredsL1,'r')\n",
        "plt.xlabel('Time (Months since Jan 1 2015)')\n",
        "plt.ylabel('Euro vs. USD conversion rate')\n",
        "plt.savefig('euro-csv-data-nonlin-l1-plot.png')\n"
      ],
      "execution_count": 205,
      "outputs": [
        {
          "output_type": "display_data",
          "data": {
            "image/png": "[encoded data removed]",
            "text/plain": [
              "<Figure size 432x288 with 1 Axes>"
            ]
          },
          "metadata": {
            "tags": []
          }
        }
      ]
    },
    {
      "cell_type": "code",
      "metadata": {
        "id": "KfBYlQ6ReSms",
        "colab_type": "code",
        "colab": {
          "base_uri": "https://localhost:8080/",
          "height": 344
        },
        "outputId": "67458c3d-a68b-430e-d745-a21203f52e60"
      },
      "source": [
        "from google.colab import files\n",
        "files.download('euro-csv-data-nonlin-l1-plot.png')"
      ],
      "execution_count": 208,
      "outputs": [
        {
          "output_type": "error",
          "ename": "MessageError",
          "evalue": "ignored",
          "traceback": [
            "\u001b[0;31m---------------------------------------------------------------------------\u001b[0m",
            "\u001b[0;31mMessageError\u001b[0m                              Traceback (most recent call last)",
            "\u001b[0;32m<ipython-input-208-3d5b95a3ce02>\u001b[0m in \u001b[0;36m<module>\u001b[0;34m()\u001b[0m\n\u001b[1;32m      1\u001b[0m \u001b[0;32mfrom\u001b[0m \u001b[0mgoogle\u001b[0m\u001b[0;34m.\u001b[0m\u001b[0mcolab\u001b[0m \u001b[0;32mimport\u001b[0m \u001b[0mfiles\u001b[0m\u001b[0;34m\u001b[0m\u001b[0;34m\u001b[0m\u001b[0m\n\u001b[0;32m----> 2\u001b[0;31m \u001b[0mfiles\u001b[0m\u001b[0;34m.\u001b[0m\u001b[0mdownload\u001b[0m\u001b[0;34m(\u001b[0m\u001b[0;34m'euro-csv-data-nonlin-l1-plot.png'\u001b[0m\u001b[0;34m)\u001b[0m\u001b[0;34m\u001b[0m\u001b[0;34m\u001b[0m\u001b[0m\n\u001b[0m",
            "\u001b[0;32m/usr/local/lib/python3.6/dist-packages/google/colab/files.py\u001b[0m in \u001b[0;36mdownload\u001b[0;34m(filename)\u001b[0m\n\u001b[1;32m    176\u001b[0m       \u001b[0;34m'port'\u001b[0m\u001b[0;34m:\u001b[0m \u001b[0mport\u001b[0m\u001b[0;34m,\u001b[0m\u001b[0;34m\u001b[0m\u001b[0;34m\u001b[0m\u001b[0m\n\u001b[1;32m    177\u001b[0m       \u001b[0;34m'path'\u001b[0m\u001b[0;34m:\u001b[0m \u001b[0m_os\u001b[0m\u001b[0;34m.\u001b[0m\u001b[0mpath\u001b[0m\u001b[0;34m.\u001b[0m\u001b[0mabspath\u001b[0m\u001b[0;34m(\u001b[0m\u001b[0mfilename\u001b[0m\u001b[0;34m)\u001b[0m\u001b[0;34m,\u001b[0m\u001b[0;34m\u001b[0m\u001b[0;34m\u001b[0m\u001b[0m\n\u001b[0;32m--> 178\u001b[0;31m       \u001b[0;34m'name'\u001b[0m\u001b[0;34m:\u001b[0m \u001b[0m_os\u001b[0m\u001b[0;34m.\u001b[0m\u001b[0mpath\u001b[0m\u001b[0;34m.\u001b[0m\u001b[0mbasename\u001b[0m\u001b[0;34m(\u001b[0m\u001b[0mfilename\u001b[0m\u001b[0;34m)\u001b[0m\u001b[0;34m,\u001b[0m\u001b[0;34m\u001b[0m\u001b[0;34m\u001b[0m\u001b[0m\n\u001b[0m\u001b[1;32m    179\u001b[0m   })\n",
            "\u001b[0;32m/usr/local/lib/python3.6/dist-packages/google/colab/output/_js.py\u001b[0m in \u001b[0;36meval_js\u001b[0;34m(script, ignore_result)\u001b[0m\n\u001b[1;32m     37\u001b[0m   \u001b[0;32mif\u001b[0m \u001b[0mignore_result\u001b[0m\u001b[0;34m:\u001b[0m\u001b[0;34m\u001b[0m\u001b[0;34m\u001b[0m\u001b[0m\n\u001b[1;32m     38\u001b[0m     \u001b[0;32mreturn\u001b[0m\u001b[0;34m\u001b[0m\u001b[0;34m\u001b[0m\u001b[0m\n\u001b[0;32m---> 39\u001b[0;31m   \u001b[0;32mreturn\u001b[0m \u001b[0m_message\u001b[0m\u001b[0;34m.\u001b[0m\u001b[0mread_reply_from_input\u001b[0m\u001b[0;34m(\u001b[0m\u001b[0mrequest_id\u001b[0m\u001b[0;34m)\u001b[0m\u001b[0;34m\u001b[0m\u001b[0;34m\u001b[0m\u001b[0m\n\u001b[0m\u001b[1;32m     40\u001b[0m \u001b[0;34m\u001b[0m\u001b[0m\n\u001b[1;32m     41\u001b[0m \u001b[0;34m\u001b[0m\u001b[0m\n",
            "\u001b[0;32m/usr/local/lib/python3.6/dist-packages/google/colab/_message.py\u001b[0m in \u001b[0;36mread_reply_from_input\u001b[0;34m(message_id, timeout_sec)\u001b[0m\n\u001b[1;32m    104\u001b[0m         reply.get('colab_msg_id') == message_id):\n\u001b[1;32m    105\u001b[0m       \u001b[0;32mif\u001b[0m \u001b[0;34m'error'\u001b[0m \u001b[0;32min\u001b[0m \u001b[0mreply\u001b[0m\u001b[0;34m:\u001b[0m\u001b[0;34m\u001b[0m\u001b[0;34m\u001b[0m\u001b[0m\n\u001b[0;32m--> 106\u001b[0;31m         \u001b[0;32mraise\u001b[0m \u001b[0mMessageError\u001b[0m\u001b[0;34m(\u001b[0m\u001b[0mreply\u001b[0m\u001b[0;34m[\u001b[0m\u001b[0;34m'error'\u001b[0m\u001b[0;34m]\u001b[0m\u001b[0;34m)\u001b[0m\u001b[0;34m\u001b[0m\u001b[0;34m\u001b[0m\u001b[0m\n\u001b[0m\u001b[1;32m    107\u001b[0m       \u001b[0;32mreturn\u001b[0m \u001b[0mreply\u001b[0m\u001b[0;34m.\u001b[0m\u001b[0mget\u001b[0m\u001b[0;34m(\u001b[0m\u001b[0;34m'data'\u001b[0m\u001b[0;34m,\u001b[0m \u001b[0;32mNone\u001b[0m\u001b[0;34m)\u001b[0m\u001b[0;34m\u001b[0m\u001b[0;34m\u001b[0m\u001b[0m\n\u001b[1;32m    108\u001b[0m \u001b[0;34m\u001b[0m\u001b[0m\n",
            "\u001b[0;31mMessageError\u001b[0m: TypeError: Failed to fetch"
          ]
        }
      ]
    },
    {
      "cell_type": "code",
      "metadata": {
        "id": "JYduTzt9oZlW",
        "colab_type": "code",
        "colab": {}
      },
      "source": [
        ""
      ],
      "execution_count": 0,
      "outputs": []
    }
  ]
}