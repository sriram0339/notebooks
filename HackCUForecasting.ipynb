{
  "nbformat": 4,
  "nbformat_minor": 0,
  "metadata": {
    "colab": {
      "name": "HackCUForecasting.ipynb",
      "provenance": [],
      "mount_file_id": "1EvR2BJekOkKMdvMoKsa0O6ngQ9LLSsRq",
      "authorship_tag": "ABX9TyPBswqQRAUw0gFIzwTVLeqf",
      "include_colab_link": true
    },
    "kernelspec": {
      "name": "python3",
      "display_name": "Python 3"
    }
  },
  "cells": [
    {
      "cell_type": "markdown",
      "metadata": {
        "id": "view-in-github",
        "colab_type": "text"
      },
      "source": [
        "<a href=\"https://colab.research.google.com/github/sriram0339/notebooks/blob/master/HackCUForecasting.ipynb\" target=\"_parent\"><img src=\"https://colab.research.google.com/assets/colab-badge.svg\" alt=\"Open In Colab\"/></a>"
      ]
    },
    {
      "cell_type": "code",
      "metadata": {
        "id": "fZMqnf_vdhTT",
        "colab_type": "code",
        "colab": {
          "base_uri": "https://localhost:8080/",
          "height": 139
        },
        "outputId": "6e249ee9-c691-4456-8f32-07fa150d522b"
      },
      "source": [
        "!pip install pulp"
      ],
      "execution_count": 67,
      "outputs": [
        {
          "output_type": "stream",
          "text": [
            "Collecting pulp\n",
            "\u001b[?25l  Downloading https://files.pythonhosted.org/packages/fb/34/ff5915ff6bae91cfb7c4cc22c3c369a6aea0b2127045dd5f308a91c260ac/PuLP-2.0-py3-none-any.whl (39.2MB)\n",
            "\u001b[K     |████████████████████████████████| 39.2MB 101kB/s \n",
            "\u001b[?25hRequirement already satisfied: pyparsing>=2.0.1 in /usr/local/lib/python3.6/dist-packages (from pulp) (2.4.6)\n",
            "Installing collected packages: pulp\n",
            "Successfully installed pulp-2.0\n"
          ],
          "name": "stdout"
        }
      ]
    },
    {
      "cell_type": "markdown",
      "metadata": {
        "id": "o7OWoPzEdmUp",
        "colab_type": "text"
      },
      "source": [
        "# Data Driven Forecasting\n",
        "\n",
        "We will explore how models can be built for time series forecasting with applications ranging from financial forecasting to helping people with type-1 diabetes.\n",
        "\n",
        "We will start with the familiar concept of regression.\n",
        "\n",
        "## Linear Regression\n",
        "\n",
        "Regression is (more or less) the task of fitting a curve to data. The most common type of regression is called _least squares_ regression.\n"
      ]
    },
    {
      "cell_type": "code",
      "metadata": {
        "id": "RrY1AevWePWM",
        "colab_type": "code",
        "colab": {
          "base_uri": "https://localhost:8080/",
          "height": 296
        },
        "outputId": "03cdf2ec-4c53-4aeb-9586-9986fa49c9a5"
      },
      "source": [
        "%matplotlib inline\n",
        "from matplotlib import pyplot as plt\n",
        "import numpy as np\n",
        "\n",
        "# Here is our data for x and y\n",
        "x = np.matrix([0, 1, 2, 3, 4, 5, 6, 7, 8, 9, 10, 11, 12 , 13, 14, 15]).T\n",
        "y = np.matrix([-0.5, 1.2, 0.4, 1.1, 2.1, 2.3, 2.5, 3.0, 3.9, 4.2, 4.6, 5.1, 5.4, 6.0, 6.6, 7.1 ]).T\n",
        "# plot it\n",
        "plt.plot(x, y, 'x')\n",
        "plt.xlabel('x')\n",
        "plt.ylabel('y')"
      ],
      "execution_count": 2,
      "outputs": [
        {
          "output_type": "execute_result",
          "data": {
            "text/plain": [
              "Text(0, 0.5, 'y')"
            ]
          },
          "metadata": {
            "tags": []
          },
          "execution_count": 2
        },
        {
          "output_type": "display_data",
          "data": {
            "image/png": "[encoded data removed]",
            "text/plain": [
              "<Figure size 432x288 with 1 Axes>"
            ]
          },
          "metadata": {
            "tags": []
          }
        }
      ]
    },
    {
      "cell_type": "code",
      "metadata": {
        "id": "cCtgbxisfAQf",
        "colab_type": "code",
        "colab": {
          "base_uri": "https://localhost:8080/",
          "height": 313
        },
        "outputId": "44f25222-d1fe-43c6-e89b-d39fcde8686e"
      },
      "source": [
        "# To find the best fit, solve the least squares problem\n",
        "# lstsq returns a tuple, just take the first item of the tuple it returns\n",
        "m = np.linalg.lstsq(x, y, rcond=None)[0] \n",
        "# Print the slope\n",
        "print('Best fit line slope:', m[0,0])\n",
        "# plot the fit\n",
        "plt.plot(x, y, 'x')\n",
        "plt.plot(x, m[0,0] * x )\n",
        "plt.xlabel('x')\n",
        "plt.ylabel('y')"
      ],
      "execution_count": 3,
      "outputs": [
        {
          "output_type": "stream",
          "text": [
            "Best fit line slope: 0.46290322580645155\n"
          ],
          "name": "stdout"
        },
        {
          "output_type": "execute_result",
          "data": {
            "text/plain": [
              "Text(0, 0.5, 'y')"
            ]
          },
          "metadata": {
            "tags": []
          },
          "execution_count": 3
        },
        {
          "output_type": "display_data",
          "data": {
            "image/png": "[encoded data removed]",
            "text/plain": [
              "<Figure size 432x288 with 1 Axes>"
            ]
          },
          "metadata": {
            "tags": []
          }
        }
      ]
    },
    {
      "cell_type": "markdown",
      "metadata": {
        "id": "USFsexu9jQzS",
        "colab_type": "text"
      },
      "source": [
        "Data can often have more than one inputs $(x_1, \\ldots, x_n)$.\n",
        "This is called multilinear regression in statistics.\n",
        "Here is some data wherein $y$ depends on $\\vec{x}: (x_1, x_2, x_3)$.\n",
        "\n",
        "## Residuals\n",
        "\n",
        "After we have fit a model to the data, the residual is simply the \n",
        "difference between actual $y$ value and that predicted by the model.\n",
        "\n",
        "$$ r = y - A x$$"
      ]
    },
    {
      "cell_type": "code",
      "metadata": {
        "id": "pqCnlq10fzM8",
        "colab_type": "code",
        "colab": {}
      },
      "source": [
        "# Generate some data on x\n",
        "x = np.random.normal(size=(10000,3))\n",
        "# Generate y\n",
        "y = x*np.matrix([[1],[1.2],[-0.4]]) + np.random.normal(size=(10000,1))"
      ],
      "execution_count": 0,
      "outputs": []
    },
    {
      "cell_type": "code",
      "metadata": {
        "id": "1hSuiXHm8u8J",
        "colab_type": "code",
        "colab": {
          "base_uri": "https://localhost:8080/",
          "height": 571
        },
        "outputId": "7df6bb8c-ec17-4863-b8de-2ed80a3ad78d"
      },
      "source": [
        "# lstsq returns a tuple, just take the first item of the tuple it returns\n",
        "m = np.linalg.lstsq(x, y, rcond=None)[0] \n",
        "# Print the slope\n",
        "print('Model: y = %f * x1 + %f * x2 + %f * x3' % (m[0,0], m[1,0], m[2,0]) )\n",
        "residuals = y - x * m\n",
        "plt.hist(residuals, bins=50)"
      ],
      "execution_count": 5,
      "outputs": [
        {
          "output_type": "stream",
          "text": [
            "Model: y = 0.980029 * x1 + 1.192999 * x2 + -0.398122 * x3\n"
          ],
          "name": "stdout"
        },
        {
          "output_type": "execute_result",
          "data": {
            "text/plain": [
              "(array([  1.,   1.,   7.,   5.,  10.,  13.,  30.,  38.,  50.,  86., 106.,\n",
              "        132., 192., 232., 283., 339., 402., 454., 485., 537., 547., 605.,\n",
              "        615., 590., 575., 557., 509., 464., 402., 377., 298., 247., 188.,\n",
              "        164., 138.,  92.,  75.,  48.,  41.,  26.,  14.,  11.,   5.,   2.,\n",
              "          2.,   1.,   0.,   2.,   1.,   1.]),\n",
              " array([-3.48388371, -3.33055771, -3.17723172, -3.02390573, -2.87057973,\n",
              "        -2.71725374, -2.56392774, -2.41060175, -2.25727575, -2.10394976,\n",
              "        -1.95062376, -1.79729777, -1.64397177, -1.49064578, -1.33731978,\n",
              "        -1.18399379, -1.03066779, -0.8773418 , -0.72401581, -0.57068981,\n",
              "        -0.41736382, -0.26403782, -0.11071183,  0.04261417,  0.19594016,\n",
              "         0.34926616,  0.50259215,  0.65591815,  0.80924414,  0.96257014,\n",
              "         1.11589613,  1.26922212,  1.42254812,  1.57587411,  1.72920011,\n",
              "         1.8825261 ,  2.0358521 ,  2.18917809,  2.34250409,  2.49583008,\n",
              "         2.64915608,  2.80248207,  2.95580807,  3.10913406,  3.26246006,\n",
              "         3.41578605,  3.56911204,  3.72243804,  3.87576403,  4.02909003,\n",
              "         4.18241602]),\n",
              " <a list of 50 Patch objects>)"
            ]
          },
          "metadata": {
            "tags": []
          },
          "execution_count": 5
        },
        {
          "output_type": "display_data",
          "data": {
            "image/png": "[encoded data removed]",
            "text/plain": [
              "<Figure size 432x288 with 1 Axes>"
            ]
          },
          "metadata": {
            "tags": []
          }
        }
      ]
    },
    {
      "cell_type": "markdown",
      "metadata": {
        "id": "juIiNe1t9EGp",
        "colab_type": "text"
      },
      "source": [
        "## Thinking Nonlinear?\n",
        "\n",
        "Data does not always have to fit a straight line. Let's generate some data that is not \"straight line\""
      ]
    },
    {
      "cell_type": "code",
      "metadata": {
        "id": "0irP_MSl9IyM",
        "colab_type": "code",
        "colab": {}
      },
      "source": [
        "x = np.matrix(np.arange(0, 10, 0.2)).T\n",
        "m = (x.shape)[0]\n",
        "y = np.sin(x * 2* 3.1415/10) + 0.6*  np.cos(x * 2 * 3.1415/5) - 0.1 * x + 0.005 * np.square(x) + 0.4 + 0.1 * np.random.normal(size=(m,1))"
      ],
      "execution_count": 0,
      "outputs": []
    },
    {
      "cell_type": "code",
      "metadata": {
        "id": "868mgVn89gGr",
        "colab_type": "code",
        "colab": {
          "base_uri": "https://localhost:8080/",
          "height": 296
        },
        "outputId": "b38fda12-1e55-494c-a40d-2ea9edaff826"
      },
      "source": [
        "plt.plot(x, y, 'r.')\n",
        "plt.xlabel('x')\n",
        "plt.ylabel('y')"
      ],
      "execution_count": 7,
      "outputs": [
        {
          "output_type": "execute_result",
          "data": {
            "text/plain": [
              "Text(0, 0.5, 'y')"
            ]
          },
          "metadata": {
            "tags": []
          },
          "execution_count": 7
        },
        {
          "output_type": "display_data",
          "data": {
            "image/png": "[encoded data removed]",
            "text/plain": [
              "<Figure size 432x288 with 1 Axes>"
            ]
          },
          "metadata": {
            "tags": []
          }
        }
      ]
    },
    {
      "cell_type": "code",
      "metadata": {
        "id": "KX6icfA0-OSC",
        "colab_type": "code",
        "colab": {
          "base_uri": "https://localhost:8080/",
          "height": 296
        },
        "outputId": "158b2e5e-bb5c-4165-8c1e-bf94266c533b"
      },
      "source": [
        "m = np.linalg.lstsq(x, y, rcond=None)[0] \n",
        "plt.plot(x, y, 'b.')\n",
        "plt.plot(x, m[0,0]* x, 'r')\n",
        "plt.xlabel('x')\n",
        "plt.ylabel('y')"
      ],
      "execution_count": 8,
      "outputs": [
        {
          "output_type": "execute_result",
          "data": {
            "text/plain": [
              "Text(0, 0.5, 'y')"
            ]
          },
          "metadata": {
            "tags": []
          },
          "execution_count": 8
        },
        {
          "output_type": "display_data",
          "data": {
            "image/png": "[encoded data removed]",
            "text/plain": [
              "<Figure size 432x288 with 1 Axes>"
            ]
          },
          "metadata": {
            "tags": []
          }
        }
      ]
    },
    {
      "cell_type": "markdown",
      "metadata": {
        "id": "p288r-ehJLTR",
        "colab_type": "text"
      },
      "source": [
        "## Nonlinear models: Augmenting the Data\n",
        "\n",
        "$$x = \\left[ \\begin{array}{c} x(0) \\\\ x(1) \\\\ \\vdots \\\\ x(m) \\\\ \\end{array}\\right]$$\n",
        "\n",
        "Instead make a matrix\n",
        "\n",
        "$$X = \\left[ \\begin{array}{ccccc}\n",
        "1 & x(0) & x(0)^2 & \\sin(2 \\pi x(0)/10) & \\cos(2 \\pi x(0)/5) \\\\\n",
        "1 & x(1) & x(1)^2 & \\sin(2 \\pi x(1)/10) & \\cos(2 \\pi x(1)/5) \\\\\n",
        "1 & x(2) & x(2)^2 & \\sin(2 \\pi x(2)/10) & \\cos(2 \\pi x(2)/5) \\\\\n",
        "\\vdots &  & & \\ddots & \\vdots \\\\\n",
        "1 & x(m) & x(m)^2 & \\sin(2 \\pi x(m)/10) & \\cos(2 \\pi x(m)/5) \\\\\n",
        "\\end{array}\\right] $$\n",
        "\n"
      ]
    },
    {
      "cell_type": "code",
      "metadata": {
        "id": "smxAc7NW-287",
        "colab_type": "code",
        "colab": {}
      },
      "source": [
        "(m,_) = x.shape\n",
        "# Create the matrix X\n",
        "X = np.concatenate(\n",
        "    (\n",
        "    np.ones(shape=(m,1)),\n",
        "    x,\n",
        "    np.square(x),\n",
        "    np.sin(2*3.1415*x/10.0),\n",
        "    np.cos(2*3.1415*x/5.0)\n",
        "    ), \n",
        "    axis = 1\n",
        ")"
      ],
      "execution_count": 0,
      "outputs": []
    },
    {
      "cell_type": "code",
      "metadata": {
        "id": "K4OgYEsoKa7V",
        "colab_type": "code",
        "colab": {
          "base_uri": "https://localhost:8080/",
          "height": 34
        },
        "outputId": "b50f013c-ce0d-46d5-af95-76d30edf90af"
      },
      "source": [
        "c = np.linalg.lstsq(X,y,rcond=None)[0]\n",
        "print('Model: %f + %f * x + %f * x^2 + %f * sin(2 pi x/10) + %f * cos(2 pi x/5)' %(c[0], c[1], c[2], c[3], c[4]))"
      ],
      "execution_count": 10,
      "outputs": [
        {
          "output_type": "stream",
          "text": [
            "Model: 0.427821 + -0.115104 * x + 0.006263 * x^2 + 1.025988 * sin(2 pi x/10) + 0.598762 * cos(2 pi x/5)\n"
          ],
          "name": "stdout"
        }
      ]
    },
    {
      "cell_type": "code",
      "metadata": {
        "id": "rfxpyGOqKsPj",
        "colab_type": "code",
        "colab": {
          "base_uri": "https://localhost:8080/",
          "height": 296
        },
        "outputId": "440fffc4-b702-45a6-869d-0d923858201d"
      },
      "source": [
        "modelPredictions = c[0,0] + c[1,0] * x + c[2,0]*np.square(x) + c[3,0] *(np.sin(2*3.1415*x/10)) + c[4,0] * np.cos(2 * 3.1415*x/5)\n",
        "plt.plot(x, y, 'b.')\n",
        "plt.plot(x,modelPredictions , 'r')\n",
        "plt.xlabel('x')\n",
        "plt.ylabel('y')"
      ],
      "execution_count": 11,
      "outputs": [
        {
          "output_type": "execute_result",
          "data": {
            "text/plain": [
              "Text(0, 0.5, 'y')"
            ]
          },
          "metadata": {
            "tags": []
          },
          "execution_count": 11
        },
        {
          "output_type": "display_data",
          "data": {
            "image/png": "[encoded data removed]",
            "text/plain": [
              "<Figure size 432x288 with 1 Axes>"
            ]
          },
          "metadata": {
            "tags": []
          }
        }
      ]
    },
    {
      "cell_type": "code",
      "metadata": {
        "id": "7eETal3jLd68",
        "colab_type": "code",
        "colab": {
          "base_uri": "https://localhost:8080/",
          "height": 367
        },
        "outputId": "98631f56-f5c9-4c98-b1e9-9a8892631628"
      },
      "source": [
        "residuals = y - modelPredictions\n",
        "plt.hist(residuals, bins=10, density=True)"
      ],
      "execution_count": 12,
      "outputs": [
        {
          "output_type": "execute_result",
          "data": {
            "text/plain": [
              "(array([1.47115727, 1.47115727, 0.98077151, 3.43270029, 3.92308604,\n",
              "        6.37501482, 2.45192878, 1.96154302, 1.96154302, 0.49038576]),\n",
              " array([-0.20192463, -0.16114041, -0.12035619, -0.07957198, -0.03878776,\n",
              "         0.00199646,  0.04278068,  0.0835649 ,  0.12434912,  0.16513334,\n",
              "         0.20591756]),\n",
              " <a list of 10 Patch objects>)"
            ]
          },
          "metadata": {
            "tags": []
          },
          "execution_count": 12
        },
        {
          "output_type": "display_data",
          "data": {
            "image/png": "[encoded data removed]",
            "text/plain": [
              "<Figure size 432x288 with 1 Axes>"
            ]
          },
          "metadata": {
            "tags": []
          }
        }
      ]
    },
    {
      "cell_type": "markdown",
      "metadata": {
        "id": "jmfOua3H7yUX",
        "colab_type": "text"
      },
      "source": [
        "## Exploration on Euro-USD currency rate data"
      ]
    },
    {
      "cell_type": "code",
      "metadata": {
        "id": "zv3JpbJgLyPq",
        "colab_type": "code",
        "colab": {}
      },
      "source": [
        "# OPEN A CSV FILE WITH DATA\n",
        "# REMEMBER TO UPLOAD THE FILE\n",
        "\n",
        "def openCSVFile(fileName, cols): \n",
        "    f = open('euro-usd-data.csv')\n",
        "    data = []\n",
        "    for line in f:\n",
        "        lineEntries = line.split(',')\n",
        "        data.append([float(lineEntries[j]) for j in cols])\n",
        "    f.close()\n",
        "    return data\n",
        "data = openCSVFile('./euro-usd-data.csv',[0,1])\n",
        "dataMat = np.matrix(data)\n",
        "t0 = dataMat[:, 0]\n",
        "r0 = dataMat[:, 1]\n",
        "\n",
        "times = t0[0:55, :]\n",
        "rates = r0[0:55, :]\n",
        "\n",
        "# Hold back 5 months of data\n",
        "predTimes = t0[54:60, :]\n",
        "predRatesGroundTruth = r0[54:60,:]\n",
        "\n"
      ],
      "execution_count": 0,
      "outputs": []
    },
    {
      "cell_type": "code",
      "metadata": {
        "id": "ql8oKY0pPE6s",
        "colab_type": "code",
        "colab": {
          "base_uri": "https://localhost:8080/",
          "height": 296
        },
        "outputId": "ad20e475-4879-4aac-bb91-c5e7226d17bb"
      },
      "source": [
        "plt.plot(times, rates,'.')\n",
        "plt.xlabel('Time (Months since Jan 1 2015)')\n",
        "plt.ylabel('Euro vs. USD conversion rate')"
      ],
      "execution_count": 328,
      "outputs": [
        {
          "output_type": "execute_result",
          "data": {
            "text/plain": [
              "Text(0, 0.5, 'Euro vs. USD conversion rate')"
            ]
          },
          "metadata": {
            "tags": []
          },
          "execution_count": 328
        },
        {
          "output_type": "display_data",
          "data": {
            "image/png": "[encoded data removed]",
            "text/plain": [
              "<Figure size 432x288 with 1 Axes>"
            ]
          },
          "metadata": {
            "tags": []
          }
        }
      ]
    },
    {
      "cell_type": "code",
      "metadata": {
        "id": "lyu7XEgzQe1o",
        "colab_type": "code",
        "colab": {}
      },
      "source": [
        "m = times.shape[0]\n",
        "pi = 3.1415\n",
        "X = np.concatenate(  (np.ones((m,1)), times, np.square(times), np.power(times, 3)),  axis = 1 )\n",
        "for i in range(3,60):\n",
        "    X = np.concatenate((X, np.sin(2*pi*times/i), np.cos(2*pi*times/i)), axis = 1)\n"
      ],
      "execution_count": 0,
      "outputs": []
    },
    {
      "cell_type": "code",
      "metadata": {
        "id": "JjOAMWCGW0pQ",
        "colab_type": "code",
        "colab": {
          "base_uri": "https://localhost:8080/",
          "height": 1000
        },
        "outputId": "d767f501-382b-4ab6-d088-28901043880a"
      },
      "source": [
        "mdl = np.linalg.lstsq(X, rates, rcond=None)[0]\n",
        "print(mdl)"
      ],
      "execution_count": 330,
      "outputs": [
        {
          "output_type": "stream",
          "text": [
            "[[ 1.53648565e+05]\n",
            " [-6.66444221e+04]\n",
            " [ 2.64086369e+03]\n",
            " [-2.39649971e+01]\n",
            " [ 5.96236004e-04]\n",
            " [ 7.57867929e-04]\n",
            " [ 2.82816957e-03]\n",
            " [-9.85504537e-04]\n",
            " [ 7.50010976e-03]\n",
            " [ 4.02773589e-03]\n",
            " [-2.06685219e-01]\n",
            " [-7.75422593e-02]\n",
            " [-8.25642428e-01]\n",
            " [-6.05462895e+00]\n",
            " [-1.30093403e+01]\n",
            " [-1.25494363e+02]\n",
            " [-1.16661811e+03]\n",
            " [-1.18138137e+03]\n",
            " [-1.24592943e+04]\n",
            " [ 4.96200437e+03]\n",
            " [ 2.15125373e+04]\n",
            " [ 6.10287133e+04]\n",
            " [ 1.48005521e+05]\n",
            " [-9.47526184e+04]\n",
            " [-1.88659964e+05]\n",
            " [-1.18383438e+05]\n",
            " [ 2.38347203e+03]\n",
            " [ 1.68603136e+04]\n",
            " [-1.12790940e+05]\n",
            " [ 1.10263117e+05]\n",
            " [-5.52583346e+04]\n",
            " [-1.11795946e+03]\n",
            " [ 6.48457548e+04]\n",
            " [ 4.08383632e+04]\n",
            " [ 4.38353940e+04]\n",
            " [ 1.07574400e+05]\n",
            " [-1.38875021e+04]\n",
            " [ 7.25541822e+04]\n",
            " [-7.57783754e+03]\n",
            " [-1.41817303e+03]\n",
            " [ 4.26154956e+04]\n",
            " [-3.43761433e+04]\n",
            " [ 7.99984761e+04]\n",
            " [-1.76939253e+04]\n",
            " [ 7.93845764e+04]\n",
            " [ 1.51346874e+04]\n",
            " [ 5.04323968e+04]\n",
            " [ 3.39207332e+04]\n",
            " [ 1.51518122e+04]\n",
            " [ 2.91126901e+04]\n",
            " [-9.68006258e+03]\n",
            " [ 7.21651609e+03]\n",
            " [-1.79523144e+04]\n",
            " [-1.96985557e+04]\n",
            " [-1.19437069e+04]\n",
            " [-4.15333261e+04]\n",
            " [ 2.14173544e+03]\n",
            " [-5.30514019e+04]\n",
            " [ 1.78546299e+04]\n",
            " [-5.35713594e+04]\n",
            " [ 3.04342057e+04]\n",
            " [-4.53539171e+04]\n",
            " [ 3.73585623e+04]\n",
            " [-3.18735858e+04]\n",
            " [ 3.80675406e+04]\n",
            " [-1.65984497e+04]\n",
            " [ 3.33436589e+04]\n",
            " [-2.29420034e+03]\n",
            " [ 2.46821344e+04]\n",
            " [ 9.23392333e+03]\n",
            " [ 1.37869865e+04]\n",
            " [ 1.70692886e+04]\n",
            " [ 2.25142999e+03]\n",
            " [ 2.10504529e+04]\n",
            " [-8.63231079e+03]\n",
            " [ 2.14943627e+04]\n",
            " [-1.79359507e+04]\n",
            " [ 1.90335038e+04]\n",
            " [-2.50738782e+04]\n",
            " [ 1.44383918e+04]\n",
            " [-2.97764709e+04]\n",
            " [ 8.47701525e+03]\n",
            " [-3.20082540e+04]\n",
            " [ 1.86419215e+03]\n",
            " [-3.19122483e+04]\n",
            " [-4.79184781e+03]\n",
            " [-2.97471721e+04]\n",
            " [-1.10158574e+04]\n",
            " [-2.58202763e+04]\n",
            " [-1.64522640e+04]\n",
            " [-2.04886587e+04]\n",
            " [-2.08552628e+04]\n",
            " [-1.40833479e+04]\n",
            " [-2.40933500e+04]\n",
            " [-6.93194335e+03]\n",
            " [-2.60940457e+04]\n",
            " [ 6.76238862e+02]\n",
            " [-2.68651430e+04]\n",
            " [ 8.48809263e+03]\n",
            " [-2.64573298e+04]\n",
            " [ 1.62975982e+04]\n",
            " [-2.49542835e+04]\n",
            " [ 2.39280463e+04]\n",
            " [-2.24553991e+04]\n",
            " [ 3.12509335e+04]\n",
            " [-1.90822797e+04]\n",
            " [ 3.81562858e+04]\n",
            " [-1.49583563e+04]\n",
            " [ 4.45742589e+04]\n",
            " [-1.01990916e+04]\n",
            " [ 5.04558528e+04]\n",
            " [-4.92122048e+03]\n",
            " [ 5.57751605e+04]\n",
            " [ 7.58572543e+02]\n",
            " [ 6.05178205e+04]\n",
            " [ 6.74672953e+03]\n",
            " [ 6.46878622e+04]\n",
            " [ 1.29510227e+04]]\n"
          ],
          "name": "stdout"
        }
      ]
    },
    {
      "cell_type": "code",
      "metadata": {
        "id": "R0zwzgFaXVjd",
        "colab_type": "code",
        "colab": {
          "base_uri": "https://localhost:8080/",
          "height": 296
        },
        "outputId": "e2bad969-961d-423b-f2ae-f7173c6a3146"
      },
      "source": [
        "plt.plot(times, rates,'r.',markerSize=7)\n",
        "plt.plot(times, X*mdl,'b')\n",
        "plt.xlabel('Time (Months since Jan 1 2015)')\n",
        "plt.ylabel('Euro vs. USD conversion rate')"
      ],
      "execution_count": 331,
      "outputs": [
        {
          "output_type": "execute_result",
          "data": {
            "text/plain": [
              "Text(0, 0.5, 'Euro vs. USD conversion rate')"
            ]
          },
          "metadata": {
            "tags": []
          },
          "execution_count": 331
        },
        {
          "output_type": "display_data",
          "data": {
            "image/png": "[encoded data removed]",
            "text/plain": [
              "<Figure size 432x288 with 1 Axes>"
            ]
          },
          "metadata": {
            "tags": []
          }
        }
      ]
    },
    {
      "cell_type": "code",
      "metadata": {
        "id": "a1X-ooSZbu4i",
        "colab_type": "code",
        "colab": {
          "base_uri": "https://localhost:8080/",
          "height": 387
        },
        "outputId": "5e5d11e9-a209-46ad-b5dd-ee9370107cf6"
      },
      "source": [
        "residuals = X * mdl - rates\n",
        "plt.hist(residuals, bins=12, density=True)"
      ],
      "execution_count": 332,
      "outputs": [
        {
          "output_type": "execute_result",
          "data": {
            "text/plain": [
              "(array([ 11.95413501,   0.        ,  47.81654005,  59.77067506,\n",
              "         23.90827002, 119.54135012, 191.2661602 ,  71.72481007,\n",
              "         59.77067506,  11.95413501,  47.81654005,  11.95413501]),\n",
              " array([-0.00952013, -0.00799917, -0.0064782 , -0.00495724, -0.00343627,\n",
              "        -0.00191531, -0.00039434,  0.00112662,  0.00264759,  0.00416855,\n",
              "         0.00568952,  0.00721048,  0.00873145]),\n",
              " <a list of 12 Patch objects>)"
            ]
          },
          "metadata": {
            "tags": []
          },
          "execution_count": 332
        },
        {
          "output_type": "display_data",
          "data": {
            "image/png": "[encoded data removed]",
            "text/plain": [
              "<Figure size 432x288 with 1 Axes>"
            ]
          },
          "metadata": {
            "tags": []
          }
        }
      ]
    },
    {
      "cell_type": "code",
      "metadata": {
        "id": "Eca6lIn3XpvO",
        "colab_type": "code",
        "colab": {
          "base_uri": "https://localhost:8080/",
          "height": 119
        },
        "outputId": "9c9cef28-6727-4a78-f9f7-f1cff8a7f25c"
      },
      "source": [
        "newTimes = predTimes\n",
        "newM = np.shape(newTimes)[0]\n",
        "newX = np.concatenate(  (np.ones((newM,1)), newTimes, np.square(newTimes), np.power(newTimes, 3)), axis = 1 )\n",
        "for i in range(3,60):\n",
        "    newX = np.concatenate((newX, np.sin(2*pi*newTimes/i), np.cos(2*pi*newTimes/i)), axis = 1)\n",
        "\n",
        "predRatesL2 = newX * mdl\n",
        "print(predRatesL2)"
      ],
      "execution_count": 333,
      "outputs": [
        {
          "output_type": "stream",
          "text": [
            "[[9.07174050e-01]\n",
            " [4.44571901e+00]\n",
            " [3.77510037e+01]\n",
            " [2.13086566e+02]\n",
            " [8.83381005e+02]\n",
            " [2.94334840e+03]]\n"
          ],
          "name": "stdout"
        }
      ]
    },
    {
      "cell_type": "code",
      "metadata": {
        "id": "gd8d9SRvX37u",
        "colab_type": "code",
        "colab": {
          "base_uri": "https://localhost:8080/",
          "height": 296
        },
        "outputId": "0577c072-59c9-437b-9fa2-17a8c603da8a"
      },
      "source": [
        "plt.plot(times, rates,'r.',markerSize=7)\n",
        "plt.plot(times, X*mdl,'b')\n",
        "plt.plot(newTimes, predRatesL2,'r')\n",
        "plt.xlabel('Time (Months since Jan 1 2015)')\n",
        "plt.ylabel('Euro vs. USD conversion rate')"
      ],
      "execution_count": 334,
      "outputs": [
        {
          "output_type": "execute_result",
          "data": {
            "text/plain": [
              "Text(0, 0.5, 'Euro vs. USD conversion rate')"
            ]
          },
          "metadata": {
            "tags": []
          },
          "execution_count": 334
        },
        {
          "output_type": "display_data",
          "data": {
            "image/png": "[encoded data removed]",
            "text/plain": [
              "<Figure size 432x288 with 1 Axes>"
            ]
          },
          "metadata": {
            "tags": []
          }
        }
      ]
    },
    {
      "cell_type": "markdown",
      "metadata": {
        "id": "BVfn6vVug_DS",
        "colab_type": "text"
      },
      "source": [
        "## Norms\n",
        "\n",
        "L1, L2, Lp and Linfty norms"
      ]
    },
    {
      "cell_type": "code",
      "metadata": {
        "id": "yMHoP3Myjcaw",
        "colab_type": "code",
        "colab": {
          "base_uri": "https://localhost:8080/",
          "height": 313
        },
        "outputId": "627d115a-36d7-473d-ebc3-390d2db533d4"
      },
      "source": [
        "x = np.array([1, 2, 1, 0, -0.5, 1])\n",
        "v2 = np.linalg.norm(x, ord=2)\n",
        "v1 = np.linalg.norm(x, ord=1)\n",
        "v3 = np.linalg.norm(x, ord=3.0)\n",
        "vinf = np.linalg.norm(x, ord=float('inf'))\n",
        "print('L2 norm: %f, L1 norm: %f, L3 norm: %f, Linfty norm: %f' % (v2, v1, v3, vinf))\n",
        "ords = list(range(1, 15))\n",
        "norms = [np.linalg.norm(x, ord=j) for j in ords] \n",
        "plt.plot(ords, norms, '-x', markerSize=8)\n",
        "plt.xlabel('p')\n",
        "plt.ylabel('L_p norm')\n"
      ],
      "execution_count": 335,
      "outputs": [
        {
          "output_type": "stream",
          "text": [
            "L2 norm: 2.692582, L1 norm: 5.500000, L3 norm: 2.232373, Linfty norm: 2.000000\n"
          ],
          "name": "stdout"
        },
        {
          "output_type": "execute_result",
          "data": {
            "text/plain": [
              "Text(0, 0.5, 'L_p norm')"
            ]
          },
          "metadata": {
            "tags": []
          },
          "execution_count": 335
        },
        {
          "output_type": "display_data",
          "data": {
            "image/png": "[encoded data removed]",
            "text/plain": [
              "<Figure size 432x288 with 1 Axes>"
            ]
          },
          "metadata": {
            "tags": []
          }
        }
      ]
    },
    {
      "cell_type": "markdown",
      "metadata": {
        "id": "Tz7pQGDik1KK",
        "colab_type": "text"
      },
      "source": [
        "# Regularized Least Squares"
      ]
    },
    {
      "cell_type": "code",
      "metadata": {
        "id": "X9dHm-qkZtEr",
        "colab_type": "code",
        "colab": {}
      },
      "source": [
        "import pulp\n",
        "\n",
        "def solveL1NormLeastSquares(A, b):\n",
        "    (m,n) = np.shape(A)\n",
        "    assert(np.shape(b) == (m,1))\n",
        "    problem = pulp.LpProblem('L1LeastSquares',pulp.LpMinimize)\n",
        "    xVars = pulp.LpVariable.dicts(\"x\", range(n))\n",
        "    tVars = pulp.LpVariable.dicts(\"t\", range(m), 0)\n",
        "    regVars = pulp.LpVariable.dicts(\"r\", range(n), 0)\n",
        "    problem += pulp.lpSum([ tVars[i] for i in range(m) ]) + pulp.lpSum([regVars[i] for i in range(n)]), \"Sum of all the t and regvariables\"\n",
        "    for i in range(m):\n",
        "        problem += pulp.lpSum([ A[i,j] * xVars[j] for j in range(n)]) <= b[i,0] + tVars[i] ## Sum_j A(i,j) x(j) <= b(i) + t(i)\n",
        "        problem += pulp.lpSum([ A[i,j] * xVars[j] for j in range(n) ]) >= b[i,0] -tVars[i] ## Sum_j A(i,j) x(j) >= b(i) - t(i)\n",
        "    for j in range(n):\n",
        "        problem += (xVars[j] <= regVars[j])\n",
        "        problem += (xVars[j] >= -regVars[j])\n",
        "    problem.solve()\n",
        "    # Each of the variables is printed with it's resolved optimum value\n",
        "    for v in problem.variables():\n",
        "        print(v.name, \"=\", v.varValue)\n",
        "    xList = [ xVars[i].varValue for i in range(n) ]\n",
        "    x = np.matrix(xList).reshape((n,1))\n",
        "    res = A * x - b\n",
        "    return (x, res)"
      ],
      "execution_count": 0,
      "outputs": []
    },
    {
      "cell_type": "code",
      "metadata": {
        "id": "P5FoadTlbi2i",
        "colab_type": "code",
        "colab": {
          "base_uri": "https://localhost:8080/",
          "height": 1000
        },
        "outputId": "0335bbd5-2f1b-4168-b797-d3840ccb37e9"
      },
      "source": [
        "(l1mdl, res) = solveL1NormLeastSquares(X, rates)"
      ],
      "execution_count": 337,
      "outputs": [
        {
          "output_type": "stream",
          "text": [
            "r_0 = 0.73168853\n",
            "r_1 = 0.035949513\n",
            "r_10 = 0.0018923922\n",
            "r_100 = 0.0\n",
            "r_101 = 0.0\n",
            "r_102 = 0.0\n",
            "r_103 = 0.0\n",
            "r_104 = 0.0\n",
            "r_105 = 0.0\n",
            "r_106 = 0.0\n",
            "r_107 = 0.0\n",
            "r_108 = 0.0\n",
            "r_109 = 0.0\n",
            "r_11 = 0.0034826809\n",
            "r_110 = 0.0\n",
            "r_111 = 0.0\n",
            "r_112 = 0.0\n",
            "r_113 = 0.0\n",
            "r_114 = 0.0\n",
            "r_115 = 0.0\n",
            "r_116 = 0.0\n",
            "r_117 = 0.0\n",
            "r_12 = 0.00034194694\n",
            "r_13 = 0.0\n",
            "r_14 = 0.0073121385\n",
            "r_15 = 0.0059602753\n",
            "r_16 = 0.0\n",
            "r_17 = 0.0\n",
            "r_18 = 0.0\n",
            "r_19 = 0.0\n",
            "r_2 = 0.0016290175\n",
            "r_20 = 0.0\n",
            "r_21 = 0.011643065\n",
            "r_22 = 0.0\n",
            "r_23 = 0.0038182128\n",
            "r_24 = 0.0\n",
            "r_25 = 0.009088277\n",
            "r_26 = 0.0\n",
            "r_27 = 0.0018739382\n",
            "r_28 = 0.0\n",
            "r_29 = 0.0\n",
            "r_3 = 1.9245267e-05\n",
            "r_30 = 0.0\n",
            "r_31 = 0.0\n",
            "r_32 = 0.0\n",
            "r_33 = 0.0\n",
            "r_34 = 0.0\n",
            "r_35 = 0.0\n",
            "r_36 = 0.0\n",
            "r_37 = 0.0\n",
            "r_38 = 0.0\n",
            "r_39 = 0.0\n",
            "r_4 = 0.0018702332\n",
            "r_40 = 0.0\n",
            "r_41 = 0.0\n",
            "r_42 = 0.0\n",
            "r_43 = 0.0\n",
            "r_44 = 0.0\n",
            "r_45 = 0.017016837\n",
            "r_46 = 0.0\n",
            "r_47 = 0.034400613\n",
            "r_48 = 0.0\n",
            "r_49 = 0.0\n",
            "r_5 = 9.7399308e-05\n",
            "r_50 = 0.0\n",
            "r_51 = 0.0\n",
            "r_52 = 0.0\n",
            "r_53 = 0.0\n",
            "r_54 = 0.0\n",
            "r_55 = 0.0\n",
            "r_56 = 0.0\n",
            "r_57 = 0.0\n",
            "r_58 = 0.0\n",
            "r_59 = 0.0\n",
            "r_6 = 0.0055394628\n",
            "r_60 = 0.0\n",
            "r_61 = 0.0\n",
            "r_62 = 0.0\n",
            "r_63 = 0.0\n",
            "r_64 = 0.0\n",
            "r_65 = 0.0\n",
            "r_66 = 0.0\n",
            "r_67 = 0.0\n",
            "r_68 = 0.0\n",
            "r_69 = 0.0\n",
            "r_7 = 0.002148855\n",
            "r_70 = 0.0\n",
            "r_71 = 0.0\n",
            "r_72 = 0.0\n",
            "r_73 = 0.0\n",
            "r_74 = 0.0\n",
            "r_75 = 0.012281614\n",
            "r_76 = 0.0\n",
            "r_77 = 0.049698819\n",
            "r_78 = 0.0\n",
            "r_79 = 0.0\n",
            "r_8 = 0.0021369834\n",
            "r_80 = 0.0\n",
            "r_81 = 0.0\n",
            "r_82 = 0.0\n",
            "r_83 = 0.0\n",
            "r_84 = 0.0\n",
            "r_85 = 0.0\n",
            "r_86 = 0.0\n",
            "r_87 = 0.0\n",
            "r_88 = 0.0\n",
            "r_89 = 0.0\n",
            "r_9 = 0.0\n",
            "r_90 = 0.0\n",
            "r_91 = 0.0\n",
            "r_92 = 0.0\n",
            "r_93 = 0.0\n",
            "r_94 = 0.0\n",
            "r_95 = 0.0\n",
            "r_96 = 0.0\n",
            "r_97 = 0.0\n",
            "r_98 = 0.0\n",
            "r_99 = 0.0\n",
            "t_0 = 0.012093017\n",
            "t_1 = 0.0\n",
            "t_10 = 0.0087009535\n",
            "t_11 = 0.0\n",
            "t_12 = 0.0048133841\n",
            "t_13 = 0.0085357911\n",
            "t_14 = 0.0\n",
            "t_15 = 0.0\n",
            "t_16 = 0.0047036886\n",
            "t_17 = 0.0\n",
            "t_18 = 0.0053597865\n",
            "t_19 = 0.0\n",
            "t_2 = 0.018072154\n",
            "t_20 = 0.00086765139\n",
            "t_21 = 0.014128335\n",
            "t_22 = 0.0049880282\n",
            "t_23 = 0.0\n",
            "t_24 = 0.0076477501\n",
            "t_25 = 0.00082115434\n",
            "t_26 = 0.0\n",
            "t_27 = 0.010921856\n",
            "t_28 = 0.0\n",
            "t_29 = 0.00424464\n",
            "t_3 = 0.012548747\n",
            "t_30 = 0.0\n",
            "t_31 = 0.0034140663\n",
            "t_32 = 0.0\n",
            "t_33 = 0.006905641\n",
            "t_34 = 0.0\n",
            "t_35 = 0.0\n",
            "t_36 = 0.0\n",
            "t_37 = 0.0021362484\n",
            "t_38 = 0.022751455\n",
            "t_39 = 0.013430813\n",
            "t_4 = 0.0047326502\n",
            "t_40 = 0.011424636\n",
            "t_41 = 0.0\n",
            "t_42 = 0.0\n",
            "t_43 = 0.0028281137\n",
            "t_44 = 0.0006738207\n",
            "t_45 = 0.0\n",
            "t_46 = 0.0\n",
            "t_47 = 0.0039304568\n",
            "t_48 = 1.3829914e-05\n",
            "t_49 = 0.0\n",
            "t_5 = 0.0038403453\n",
            "t_50 = 0.0091452783\n",
            "t_51 = 0.0\n",
            "t_52 = 0.0034002252\n",
            "t_53 = 3.476487e-05\n",
            "t_54 = 0.0\n",
            "t_6 = 0.0\n",
            "t_7 = 0.015920816\n",
            "t_8 = 0.0081435259\n",
            "t_9 = 0.0044537007\n",
            "x_0 = 0.73168853\n",
            "x_1 = 0.035949513\n",
            "x_10 = -0.0018923922\n",
            "x_100 = 0.0\n",
            "x_101 = 0.0\n",
            "x_102 = 0.0\n",
            "x_103 = 0.0\n",
            "x_104 = 0.0\n",
            "x_105 = 0.0\n",
            "x_106 = 0.0\n",
            "x_107 = 0.0\n",
            "x_108 = 0.0\n",
            "x_109 = 0.0\n",
            "x_11 = -0.0034826809\n",
            "x_110 = 0.0\n",
            "x_111 = 0.0\n",
            "x_112 = 0.0\n",
            "x_113 = 0.0\n",
            "x_114 = 0.0\n",
            "x_115 = 0.0\n",
            "x_116 = 0.0\n",
            "x_117 = 0.0\n",
            "x_12 = -0.00034194694\n",
            "x_13 = 0.0\n",
            "x_14 = 0.0073121385\n",
            "x_15 = 0.0059602753\n",
            "x_16 = 0.0\n",
            "x_17 = 0.0\n",
            "x_18 = 0.0\n",
            "x_19 = 0.0\n",
            "x_2 = -0.0016290175\n",
            "x_20 = 0.0\n",
            "x_21 = 0.011643065\n",
            "x_22 = 0.0\n",
            "x_23 = 0.0038182128\n",
            "x_24 = 0.0\n",
            "x_25 = 0.009088277\n",
            "x_26 = 0.0\n",
            "x_27 = 0.0018739382\n",
            "x_28 = 0.0\n",
            "x_29 = 0.0\n",
            "x_3 = 1.9245267e-05\n",
            "x_30 = 0.0\n",
            "x_31 = 0.0\n",
            "x_32 = 0.0\n",
            "x_33 = 0.0\n",
            "x_34 = 0.0\n",
            "x_35 = 0.0\n",
            "x_36 = 0.0\n",
            "x_37 = 0.0\n",
            "x_38 = 0.0\n",
            "x_39 = 0.0\n",
            "x_4 = -0.0018702332\n",
            "x_40 = 0.0\n",
            "x_41 = 0.0\n",
            "x_42 = 0.0\n",
            "x_43 = 0.0\n",
            "x_44 = 0.0\n",
            "x_45 = 0.017016837\n",
            "x_46 = 0.0\n",
            "x_47 = 0.034400613\n",
            "x_48 = 0.0\n",
            "x_49 = 0.0\n",
            "x_5 = 9.7399308e-05\n",
            "x_50 = 0.0\n",
            "x_51 = 0.0\n",
            "x_52 = 0.0\n",
            "x_53 = 0.0\n",
            "x_54 = 0.0\n",
            "x_55 = 0.0\n",
            "x_56 = 0.0\n",
            "x_57 = 0.0\n",
            "x_58 = 0.0\n",
            "x_59 = 0.0\n",
            "x_6 = 0.0055394628\n",
            "x_60 = 0.0\n",
            "x_61 = 0.0\n",
            "x_62 = 0.0\n",
            "x_63 = 0.0\n",
            "x_64 = 0.0\n",
            "x_65 = 0.0\n",
            "x_66 = 0.0\n",
            "x_67 = 0.0\n",
            "x_68 = 0.0\n",
            "x_69 = 0.0\n",
            "x_7 = -0.002148855\n",
            "x_70 = 0.0\n",
            "x_71 = 0.0\n",
            "x_72 = 0.0\n",
            "x_73 = 0.0\n",
            "x_74 = 0.0\n",
            "x_75 = 0.012281614\n",
            "x_76 = 0.0\n",
            "x_77 = 0.049698819\n",
            "x_78 = 0.0\n",
            "x_79 = 0.0\n",
            "x_8 = 0.0021369834\n",
            "x_80 = 0.0\n",
            "x_81 = 0.0\n",
            "x_82 = 0.0\n",
            "x_83 = 0.0\n",
            "x_84 = 0.0\n",
            "x_85 = 0.0\n",
            "x_86 = 0.0\n",
            "x_87 = 0.0\n",
            "x_88 = 0.0\n",
            "x_89 = 0.0\n",
            "x_9 = 0.0\n",
            "x_90 = 0.0\n",
            "x_91 = 0.0\n",
            "x_92 = 0.0\n",
            "x_93 = 0.0\n",
            "x_94 = 0.0\n",
            "x_95 = 0.0\n",
            "x_96 = 0.0\n",
            "x_97 = 0.0\n",
            "x_98 = 0.0\n",
            "x_99 = 0.0\n"
          ],
          "name": "stdout"
        }
      ]
    },
    {
      "cell_type": "code",
      "metadata": {
        "id": "Uhqdxs0lb-bR",
        "colab_type": "code",
        "colab": {
          "base_uri": "https://localhost:8080/",
          "height": 296
        },
        "outputId": "8c34b6a5-43ba-4e72-985e-31127ee69722"
      },
      "source": [
        "plt.plot(times, rates,'r.',markerSize=7)\n",
        "plt.plot(times, X*l1mdl,'b')\n",
        "plt.xlabel('Time (Months since Jan 1 2015)')\n",
        "plt.ylabel('Euro vs. USD conversion rate')"
      ],
      "execution_count": 338,
      "outputs": [
        {
          "output_type": "execute_result",
          "data": {
            "text/plain": [
              "Text(0, 0.5, 'Euro vs. USD conversion rate')"
            ]
          },
          "metadata": {
            "tags": []
          },
          "execution_count": 338
        },
        {
          "output_type": "display_data",
          "data": {
            "image/png": "[encoded data removed]",
            "text/plain": [
              "<Figure size 432x288 with 1 Axes>"
            ]
          },
          "metadata": {
            "tags": []
          }
        }
      ]
    },
    {
      "cell_type": "code",
      "metadata": {
        "id": "dIXR3CTUcJ_7",
        "colab_type": "code",
        "colab": {
          "base_uri": "https://localhost:8080/",
          "height": 562
        },
        "outputId": "fb434625-b88f-4a34-cac8-ca468d1fc41a"
      },
      "source": [
        "l1residuals = X * l1mdl - rates\n",
        "plt.hist(l1residuals, bins=12, density=True, color='red')\n",
        "plt.title('L1 norm residuals')\n",
        "plt.figure(2)\n",
        "plt.hist(residuals, bins=12, density=True)\n",
        "plt.title('L2 norm residuals')\n"
      ],
      "execution_count": 339,
      "outputs": [
        {
          "output_type": "execute_result",
          "data": {
            "text/plain": [
              "Text(0.5, 1.0, 'L2 norm residuals')"
            ]
          },
          "metadata": {
            "tags": []
          },
          "execution_count": 339
        },
        {
          "output_type": "display_data",
          "data": {
            "image/png": "[encoded data removed]",
            "text/plain": [
              "<Figure size 432x288 with 1 Axes>"
            ]
          },
          "metadata": {
            "tags": []
          }
        },
        {
          "output_type": "display_data",
          "data": {
            "image/png": "[encoded data removed]",
            "text/plain": [
              "<Figure size 432x288 with 1 Axes>"
            ]
          },
          "metadata": {
            "tags": []
          }
        }
      ]
    },
    {
      "cell_type": "code",
      "metadata": {
        "id": "qUxt_1k0c3cy",
        "colab_type": "code",
        "colab": {
          "base_uri": "https://localhost:8080/",
          "height": 119
        },
        "outputId": "519ea4d4-a4b1-4beb-b973-e5e134fa6b0f"
      },
      "source": [
        "newPredsL1 = newX * l1mdl\n",
        "print(newPredsL1)"
      ],
      "execution_count": 202,
      "outputs": [
        {
          "output_type": "stream",
          "text": [
            "[[0.90719877]\n",
            " [0.93944539]\n",
            " [0.96974538]\n",
            " [0.98565124]\n",
            " [1.00668781]\n",
            " [1.04858758]]\n"
          ],
          "name": "stdout"
        }
      ]
    },
    {
      "cell_type": "code",
      "metadata": {
        "id": "twwg1RFeeJSW",
        "colab_type": "code",
        "colab": {
          "base_uri": "https://localhost:8080/",
          "height": 279
        },
        "outputId": "7f2204f7-830e-444b-84fe-fef34d1c3e09"
      },
      "source": [
        "plt.plot(t0, r0,'r.',markerSize=7)\n",
        "plt.plot(times, X*l1mdl,'b')\n",
        "plt.plot(newTimes, newPredsL1,'r')\n",
        "plt.xlabel('Time (Months since Jan 1 2015)')\n",
        "plt.ylabel('Euro vs. USD conversion rate')\n",
        "plt.savefig('euro-csv-data-nonlin-l1-plot.png')"
      ],
      "execution_count": 340,
      "outputs": [
        {
          "output_type": "display_data",
          "data": {
            "image/png": "[encoded data removed]",
            "text/plain": [
              "<Figure size 432x288 with 1 Axes>"
            ]
          },
          "metadata": {
            "tags": []
          }
        }
      ]
    },
    {
      "cell_type": "markdown",
      "metadata": {
        "id": "6eFP4oum7lkj",
        "colab_type": "text"
      },
      "source": [
        "# Auto regressive Models"
      ]
    },
    {
      "cell_type": "code",
      "metadata": {
        "id": "JYduTzt9oZlW",
        "colab_type": "code",
        "colab": {}
      },
      "source": [
        "def prepareARMAXModel(timeSeries, p, h, testing=False):\n",
        "    if not testing:\n",
        "        y = timeSeries[(p+h-1):, :]\n",
        "        nRows = y.shape[0]\n",
        "    else: \n",
        "        nRows = timeSeries.shape[0] - p\n",
        "        y = None\n",
        "    X = np.ones((nRows,1))\n",
        "    for i in range(p):\n",
        "        X = np.concatenate((X, timeSeries[i:i+nRows,:]), axis = 1)\n",
        "    return (X,y)\n"
      ],
      "execution_count": 0,
      "outputs": []
    },
    {
      "cell_type": "code",
      "metadata": {
        "id": "icVgqWg2tCuw",
        "colab_type": "code",
        "colab": {}
      },
      "source": [
        "# Prepare the training data to just have 45\n",
        "(X, y) = prepareARMAXModel(r0[1:45, :], 5, 1)"
      ],
      "execution_count": 0,
      "outputs": []
    },
    {
      "cell_type": "code",
      "metadata": {
        "id": "lJ9YffrhtIFL",
        "colab_type": "code",
        "colab": {
          "base_uri": "https://localhost:8080/",
          "height": 34
        },
        "outputId": "78b1f04b-97b1-462c-dd20-25dd6c7baac8"
      },
      "source": [
        "arMdl = np.linalg.lstsq(X, y, rcond=None)[0]\n",
        "residuals = y - X * arMdl\n",
        "print('%f + %f * x(t-4) + %f * x(t-3)+ %f * x(t-2) + %f * x(t-1) * %f * x(t)' % (arMdl[0], arMdl[1], arMdl[2], arMdl[3], arMdl[4], arMdl[5]))"
      ],
      "execution_count": 343,
      "outputs": [
        {
          "output_type": "stream",
          "text": [
            "0.110212 + -0.241503 * x(t-4) + 0.427897 * x(t-3)+ -0.369808 * x(t-2) + -0.134764 * x(t-1) * 1.193654 * x(t)\n"
          ],
          "name": "stdout"
        }
      ]
    },
    {
      "cell_type": "code",
      "metadata": {
        "id": "Cj-r9RJUt3sA",
        "colab_type": "code",
        "colab": {
          "base_uri": "https://localhost:8080/",
          "height": 350
        },
        "outputId": "00ad5ae8-7416-4204-d012-5f5c2c9bb65d"
      },
      "source": [
        "plt.hist(residuals, bins=10)"
      ],
      "execution_count": 344,
      "outputs": [
        {
          "output_type": "execute_result",
          "data": {
            "text/plain": [
              "(array([5., 3., 7., 6., 7., 6., 2., 1., 1., 1.]),\n",
              " array([-0.0233688 , -0.01734191, -0.01131503, -0.00528814,  0.00073875,\n",
              "         0.00676563,  0.01279252,  0.01881941,  0.02484629,  0.03087318,\n",
              "         0.03690007]),\n",
              " <a list of 10 Patch objects>)"
            ]
          },
          "metadata": {
            "tags": []
          },
          "execution_count": 344
        },
        {
          "output_type": "display_data",
          "data": {
            "image/png": "[encoded data removed]",
            "text/plain": [
              "<Figure size 432x288 with 1 Axes>"
            ]
          },
          "metadata": {
            "tags": []
          }
        }
      ]
    },
    {
      "cell_type": "code",
      "metadata": {
        "id": "GzXsglIPuOuz",
        "colab_type": "code",
        "colab": {
          "base_uri": "https://localhost:8080/",
          "height": 315
        },
        "outputId": "8f084d30-24a8-458f-f832-b6ca52fb8513"
      },
      "source": [
        "(X, _) = prepareARMAXModel(r0[40:60, :], 5, 1, testing=True)\n",
        "plt.plot(t0[45:60], r0[45:60], 'b.-')\n",
        "print(X.shape)\n",
        "plt.plot(range(46,61), X * arMdl, '--xr')\n",
        "plt.title('ARMAX Prediction on Unseen Data')"
      ],
      "execution_count": 345,
      "outputs": [
        {
          "output_type": "stream",
          "text": [
            "(15, 6)\n"
          ],
          "name": "stdout"
        },
        {
          "output_type": "execute_result",
          "data": {
            "text/plain": [
              "Text(0.5, 1.0, 'ARMAX Prediction on Unseen Data')"
            ]
          },
          "metadata": {
            "tags": []
          },
          "execution_count": 345
        },
        {
          "output_type": "display_data",
          "data": {
            "image/png": "[encoded data removed]",
            "text/plain": [
              "<Figure size 432x288 with 1 Axes>"
            ]
          },
          "metadata": {
            "tags": []
          }
        }
      ]
    },
    {
      "cell_type": "code",
      "metadata": {
        "id": "SyvqMOtCucrp",
        "colab_type": "code",
        "colab": {
          "base_uri": "https://localhost:8080/",
          "height": 476
        },
        "outputId": "d16818d4-6476-441a-e004-b7b52087ed9e"
      },
      "source": [
        "(X, y) = prepareARMAXModel(r0[40:60, :], 5, 1, testing=False)\n",
        "l1ARMMdl, l1Res = solveL1NormLeastSquares(X, y)"
      ],
      "execution_count": 346,
      "outputs": [
        {
          "output_type": "stream",
          "text": [
            "r_0 = 0.434503\n",
            "r_1 = 0.4904633\n",
            "r_2 = 0.0\n",
            "r_3 = 0.029155602\n",
            "r_4 = 0.0\n",
            "r_5 = 0.0\n",
            "t_0 = 0.0\n",
            "t_1 = 0.0093172303\n",
            "t_10 = 0.0050790862\n",
            "t_11 = 0.010101103\n",
            "t_12 = 0.0018665314\n",
            "t_13 = 0.0\n",
            "t_14 = 0.003685027\n",
            "t_2 = 0.0\n",
            "t_3 = 0.0017186825\n",
            "t_4 = 0.0014621436\n",
            "t_5 = 0.0022178942\n",
            "t_6 = 0.0048270035\n",
            "t_7 = 0.0010343868\n",
            "t_8 = 0.0028192048\n",
            "t_9 = 0.010317736\n",
            "x_0 = 0.434503\n",
            "x_1 = 0.4904633\n",
            "x_2 = 0.0\n",
            "x_3 = 0.029155602\n",
            "x_4 = 0.0\n",
            "x_5 = 0.0\n"
          ],
          "name": "stdout"
        }
      ]
    },
    {
      "cell_type": "code",
      "metadata": {
        "id": "7B8vwEr2ws1T",
        "colab_type": "code",
        "colab": {
          "base_uri": "https://localhost:8080/",
          "height": 562
        },
        "outputId": "078bf731-3dac-4e74-ada2-3d8f198ba25f"
      },
      "source": [
        "\n",
        "plt.hist(residuals, bins=10)\n",
        "plt.title('L2 Norm Residuals')\n",
        "plt.figure(2)\n",
        "plt.hist(l1Res, bins=10)\n",
        "plt.title('L1 Norm Residuals')"
      ],
      "execution_count": 349,
      "outputs": [
        {
          "output_type": "execute_result",
          "data": {
            "text/plain": [
              "Text(0.5, 1.0, 'L1 Norm Residuals')"
            ]
          },
          "metadata": {
            "tags": []
          },
          "execution_count": 349
        },
        {
          "output_type": "display_data",
          "data": {
            "image/png": "[encoded data removed]",
            "text/plain": [
              "<Figure size 432x288 with 1 Axes>"
            ]
          },
          "metadata": {
            "tags": []
          }
        },
        {
          "output_type": "display_data",
          "data": {
            "image/png": "[encoded data removed]",
            "text/plain": [
              "<Figure size 432x288 with 1 Axes>"
            ]
          },
          "metadata": {
            "tags": []
          }
        }
      ]
    },
    {
      "cell_type": "code",
      "metadata": {
        "id": "oH9BVTp7wvw-",
        "colab_type": "code",
        "colab": {
          "base_uri": "https://localhost:8080/",
          "height": 315
        },
        "outputId": "e4e46b36-8f7e-40b3-b2a4-06336d23769c"
      },
      "source": [
        "(X, _) = prepareARMAXModel(r0[40:60, :], 5, 1, testing=True)\n",
        "plt.plot(t0[45:60], r0[45:60], 'b.-')\n",
        "print(X.shape)\n",
        "plt.plot(range(46,61), X * l1ARMMdl, '--xr')\n",
        "plt.title('ARMAX Prediction on Unseen Data (L1 Norm)')\n"
      ],
      "execution_count": 350,
      "outputs": [
        {
          "output_type": "stream",
          "text": [
            "(15, 6)\n"
          ],
          "name": "stdout"
        },
        {
          "output_type": "execute_result",
          "data": {
            "text/plain": [
              "Text(0.5, 1.0, 'ARMAX Prediction on Unseen Data (L1 Norm)')"
            ]
          },
          "metadata": {
            "tags": []
          },
          "execution_count": 350
        },
        {
          "output_type": "display_data",
          "data": {
            "image/png": "[encoded data removed]",
            "text/plain": [
              "<Figure size 432x288 with 1 Axes>"
            ]
          },
          "metadata": {
            "tags": []
          }
        }
      ]
    },
    {
      "cell_type": "code",
      "metadata": {
        "id": "hyiHnkSPyD2k",
        "colab_type": "code",
        "colab": {}
      },
      "source": [
        "(X, y) = prepareARMAXModel(r0[0:40, :], 8, 1, testing=False)\n",
        "armMdl10 = np.linalg.lstsq(X, y, rcond=None)[0]\n"
      ],
      "execution_count": 0,
      "outputs": []
    },
    {
      "cell_type": "code",
      "metadata": {
        "id": "jn0MNl9TyaHi",
        "colab_type": "code",
        "colab": {
          "base_uri": "https://localhost:8080/",
          "height": 315
        },
        "outputId": "419c3ac8-ed82-442d-fae9-57508c905676"
      },
      "source": [
        "(X, _) = prepareARMAXModel(r0[40:60, :], 8, 1, testing=True)\n",
        "plt.plot(t0[48:60], r0[48:60], 'b.-')\n",
        "print(X.shape)\n",
        "plt.plot(range(49,61), X * armMdl10, '--xr')\n",
        "plt.title('ARMAX Prediction on Unseen Data (L2 Norm)')"
      ],
      "execution_count": 318,
      "outputs": [
        {
          "output_type": "stream",
          "text": [
            "(12, 9)\n"
          ],
          "name": "stdout"
        },
        {
          "output_type": "execute_result",
          "data": {
            "text/plain": [
              "Text(0.5, 1.0, 'ARMAX Prediction on Unseen Data (L2 Norm)')"
            ]
          },
          "metadata": {
            "tags": []
          },
          "execution_count": 318
        },
        {
          "output_type": "display_data",
          "data": {
            "image/png": "[encoded data removed]",
            "text/plain": [
              "<Figure size 432x288 with 1 Axes>"
            ]
          },
          "metadata": {
            "tags": []
          }
        }
      ]
    },
    {
      "cell_type": "code",
      "metadata": {
        "id": "3x5mEJy9ydmt",
        "colab_type": "code",
        "colab": {}
      },
      "source": [
        "(X, y) = prepareARMAXModel(r0[0:30, :], 15, 1, testing=False)\n",
        "armMdl15 = np.linalg.lstsq(X, y, rcond=None)[0]"
      ],
      "execution_count": 0,
      "outputs": []
    },
    {
      "cell_type": "code",
      "metadata": {
        "id": "4VyFWy8Vzq6N",
        "colab_type": "code",
        "colab": {
          "base_uri": "https://localhost:8080/",
          "height": 315
        },
        "outputId": "f6c2c428-7bd6-4fae-bf52-18c4de203797"
      },
      "source": [
        "(X, _) = prepareARMAXModel(r0[30:60, :], 15, 1, testing=True)\n",
        "plt.plot(t0[45:60], r0[45:60], 'b.-')\n",
        "print(X.shape)\n",
        "plt.plot(range(46,61), X * armMdl15, '--xr')\n",
        "plt.title('ARMAX Prediction on Unseen Data (L2 Norm)')"
      ],
      "execution_count": 354,
      "outputs": [
        {
          "output_type": "stream",
          "text": [
            "(15, 16)\n"
          ],
          "name": "stdout"
        },
        {
          "output_type": "execute_result",
          "data": {
            "text/plain": [
              "Text(0.5, 1.0, 'ARMAX Prediction on Unseen Data (L2 Norm)')"
            ]
          },
          "metadata": {
            "tags": []
          },
          "execution_count": 354
        },
        {
          "output_type": "display_data",
          "data": {
            "image/png": "[encoded data removed]",
            "text/plain": [
              "<Figure size 432x288 with 1 Axes>"
            ]
          },
          "metadata": {
            "tags": []
          }
        }
      ]
    },
    {
      "cell_type": "markdown",
      "metadata": {
        "id": "c-YVN2OS3rqm",
        "colab_type": "text"
      },
      "source": [
        "# Data from patients with type-1 diabetes"
      ]
    },
    {
      "cell_type": "code",
      "metadata": {
        "id": "CAgS6VSnzzg3",
        "colab_type": "code",
        "colab": {
          "base_uri": "https://localhost:8080/",
          "height": 319
        },
        "outputId": "10034e13-7902-4414-8eb8-86356dac9a1e"
      },
      "source": [
        "def openCSVFile(fileName, cols): \n",
        "    f = open(fileName)\n",
        "    data = []\n",
        "    for line in f:\n",
        "        lineEntries = line.split(',')\n",
        "        data.append([float(lineEntries[j]) for j in cols])\n",
        "    f.close()\n",
        "    return data\n",
        "glucose113 = openCSVFile('./session-113-data113.csv', [0])\n",
        "print(glucose113)\n",
        "G = np.matrix(glucose113)\n",
        "plt.plot(range(1,164), G, 'o')\n"
      ],
      "execution_count": 369,
      "outputs": [
        {
          "output_type": "stream",
          "text": [
            "[[148.0], [150.0], [154.0], [158.0], [158.0], [157.0], [154.0], [153.0], [149.0], [147.0], [145.0], [145.0], [147.0], [147.0], [145.0], [140.0], [135.0], [129.0], [121.0], [118.0], [119.0], [122.0], [124.0], [128.0], [131.0], [134.0], [142.0], [147.0], [149.0], [150.0], [150.0], [143.0], [136.0], [130.0], [127.0], [126.0], [127.0], [134.0], [137.0], [140.0], [141.0], [144.0], [151.0], [159.0], [153.0], [158.0], [170.0], [188.0], [197.0], [204.0], [225.0], [233.0], [241.0], [248.0], [257.0], [259.0], [263.0], [266.0], [269.0], [267.0], [256.0], [251.0], [248.0], [244.0], [240.0], [235.0], [230.0], [224.0], [219.0], [216.0], [213.0], [212.0], [208.0], [204.0], [201.0], [201.0], [202.0], [204.0], [207.0], [210.0], [215.0], [220.0], [223.0], [228.0], [236.0], [239.0], [242.0], [246.0], [249.0], [250.0], [258.0], [250.0], [244.0], [239.0], [235.0], [232.0], [229.0], [225.0], [223.0], [220.0], [215.0], [213.0], [213.0], [207.0], [200.0], [193.0], [183.0], [178.0], [172.0], [170.0], [172.0], [165.0], [155.0], [146.0], [135.0], [125.0], [119.0], [114.0], [108.0], [102.0], [99.0], [98.0], [95.0], [88.0], [81.0], [77.0], [74.0], [71.0], [67.0], [63.0], [60.0], [60.0], [71.0], [68.0], [60.0], [56.0], [53.0], [53.0], [52.0], [51.0], [50.0], [49.0], [48.0], [48.0], [48.0], [59.0], [65.0], [58.0], [52.0], [51.0], [49.0], [52.0], [51.0], [50.0], [51.0], [50.0], [49.0], [47.0], [45.0], [43.0], [42.0], [41.0], [41.0]]\n"
          ],
          "name": "stdout"
        },
        {
          "output_type": "execute_result",
          "data": {
            "text/plain": [
              "[<matplotlib.lines.Line2D at 0x7ff31d618390>]"
            ]
          },
          "metadata": {
            "tags": []
          },
          "execution_count": 369
        },
        {
          "output_type": "display_data",
          "data": {
            "image/png": "[encoded data removed]",
            "text/plain": [
              "<Figure size 432x288 with 1 Axes>"
            ]
          },
          "metadata": {
            "tags": []
          }
        }
      ]
    },
    {
      "cell_type": "markdown",
      "metadata": {
        "id": "-Tp-QX-N7cb5",
        "colab_type": "text"
      },
      "source": [
        "### ARMAX model with lookback of 10 steps"
      ]
    },
    {
      "cell_type": "code",
      "metadata": {
        "id": "m2RcAo7O31m6",
        "colab_type": "code",
        "colab": {
          "base_uri": "https://localhost:8080/",
          "height": 34
        },
        "outputId": "3a4e9133-b302-4bef-982d-7ae5b89bd747"
      },
      "source": [
        "## Predict Glucose values 25 minutes into the future\n",
        "## Using 450 minutes minutes of data\n",
        "## Look back of 10 steps\n",
        "(X,y) = prepareARMAXModel(G[0:90], 10, 5, testing=False)\n",
        "print(X.shape)"
      ],
      "execution_count": 388,
      "outputs": [
        {
          "output_type": "stream",
          "text": [
            "(76, 11)\n"
          ],
          "name": "stdout"
        }
      ]
    },
    {
      "cell_type": "code",
      "metadata": {
        "id": "JRpczQdq47Qb",
        "colab_type": "code",
        "colab": {
          "base_uri": "https://localhost:8080/",
          "height": 350
        },
        "outputId": "80278433-2b47-493b-dc24-831cd992569d"
      },
      "source": [
        "gluc113mdl = np.linalg.lstsq(X, y, rcond = None)[0]\n",
        "residuals = X * gluc113mdl - y \n",
        "plt.hist(residuals)"
      ],
      "execution_count": 389,
      "outputs": [
        {
          "output_type": "execute_result",
          "data": {
            "text/plain": [
              "(array([ 2.,  0.,  1.,  2., 18., 21., 16.,  6.,  2.,  8.]),\n",
              " array([-53.92029295, -44.8585125 , -35.79673205, -26.73495159,\n",
              "        -17.67317114,  -8.61139068,   0.45038977,   9.51217022,\n",
              "         18.57395068,  27.63573113,  36.69751159]),\n",
              " <a list of 10 Patch objects>)"
            ]
          },
          "metadata": {
            "tags": []
          },
          "execution_count": 389
        },
        {
          "output_type": "display_data",
          "data": {
            "image/png": "[encoded data removed]",
            "text/plain": [
              "<Figure size 432x288 with 1 Axes>"
            ]
          },
          "metadata": {
            "tags": []
          }
        }
      ]
    },
    {
      "cell_type": "code",
      "metadata": {
        "id": "XcPdml0b5aUp",
        "colab_type": "code",
        "colab": {}
      },
      "source": [
        "(X,_) = prepareARMAXModel(G, 10, 5, testing=True)"
      ],
      "execution_count": 0,
      "outputs": []
    },
    {
      "cell_type": "code",
      "metadata": {
        "id": "fH_3b5u55oVS",
        "colab_type": "code",
        "colab": {
          "base_uri": "https://localhost:8080/",
          "height": 296
        },
        "outputId": "ce14aace-56d8-4017-a400-384e12f0f0c4"
      },
      "source": [
        "plt.plot(range(1, 164), G, 'rx')\n",
        "plt.plot(range(11,164), X * gluc113mdl, 'b--')\n",
        "plt.xlabel('Time (5 minutes after 6 PM)')\n",
        "plt.ylabel('G (mg/dl)')"
      ],
      "execution_count": 391,
      "outputs": [
        {
          "output_type": "execute_result",
          "data": {
            "text/plain": [
              "Text(0, 0.5, 'G (mg/dl)')"
            ]
          },
          "metadata": {
            "tags": []
          },
          "execution_count": 391
        },
        {
          "output_type": "display_data",
          "data": {
            "image/png": "[encoded data removed]",
            "text/plain": [
              "<Figure size 432x288 with 1 Axes>"
            ]
          },
          "metadata": {
            "tags": []
          }
        }
      ]
    },
    {
      "cell_type": "markdown",
      "metadata": {
        "id": "aJWwUWCA6otk",
        "colab_type": "text"
      },
      "source": [
        "### ARMAX Mdl with look back of 20 steps\n",
        "\n"
      ]
    },
    {
      "cell_type": "code",
      "metadata": {
        "id": "lXBoZa2V5u5_",
        "colab_type": "code",
        "colab": {
          "base_uri": "https://localhost:8080/",
          "height": 34
        },
        "outputId": "7886d2c6-7d67-4291-cd9d-438cb151e415"
      },
      "source": [
        "## Predict Glucose values 25 minutes into the future\n",
        "## Using 450 minutes minutes of data\n",
        "## Look back of 10 steps\n",
        "(X,y) = prepareARMAXModel(G[0:90], 20, 5, testing=False)\n",
        "print(X.shape)"
      ],
      "execution_count": 392,
      "outputs": [
        {
          "output_type": "stream",
          "text": [
            "(66, 21)\n"
          ],
          "name": "stdout"
        }
      ]
    },
    {
      "cell_type": "code",
      "metadata": {
        "id": "xiYqBTQq7BbM",
        "colab_type": "code",
        "colab": {
          "base_uri": "https://localhost:8080/",
          "height": 350
        },
        "outputId": "03054f1f-2c1e-4d14-e57f-45968cc7ece6"
      },
      "source": [
        "gluc113mdl = np.linalg.lstsq(X, y, rcond = None)[0]\n",
        "residuals = X * gluc113mdl - y \n",
        "plt.hist(residuals)"
      ],
      "execution_count": 393,
      "outputs": [
        {
          "output_type": "execute_result",
          "data": {
            "text/plain": [
              "(array([ 1.,  1.,  1.,  5., 19., 16., 14.,  4.,  1.,  4.]),\n",
              " array([-48.27730254, -39.42363108, -30.56995963, -21.71628817,\n",
              "        -12.86261671,  -4.00894525,   4.8447262 ,  13.69839766,\n",
              "         22.55206912,  31.40574057,  40.25941203]),\n",
              " <a list of 10 Patch objects>)"
            ]
          },
          "metadata": {
            "tags": []
          },
          "execution_count": 393
        },
        {
          "output_type": "display_data",
          "data": {
            "image/png": "[encoded data removed]",
            "text/plain": [
              "<Figure size 432x288 with 1 Axes>"
            ]
          },
          "metadata": {
            "tags": []
          }
        }
      ]
    },
    {
      "cell_type": "code",
      "metadata": {
        "id": "rqrZzthC7ECo",
        "colab_type": "code",
        "colab": {
          "base_uri": "https://localhost:8080/",
          "height": 296
        },
        "outputId": "1c299d5d-5855-4af1-fd71-4166445ea5dd"
      },
      "source": [
        "(X,_) = prepareARMAXModel(G, 20, 5, testing=True)\n",
        "plt.plot(range(1, 164), G, 'rx')\n",
        "plt.plot(range(21,164), X * gluc113mdl, 'b--')\n",
        "plt.xlabel('Time (5 minutes after 6 PM)')\n",
        "plt.ylabel('G (mg/dl)')"
      ],
      "execution_count": 396,
      "outputs": [
        {
          "output_type": "execute_result",
          "data": {
            "text/plain": [
              "Text(0, 0.5, 'G (mg/dl)')"
            ]
          },
          "metadata": {
            "tags": []
          },
          "execution_count": 396
        },
        {
          "output_type": "display_data",
          "data": {
            "image/png": "[encoded data removed]",
            "text/plain": [
              "<Figure size 432x288 with 1 Axes>"
            ]
          },
          "metadata": {
            "tags": []
          }
        }
      ]
    },
    {
      "cell_type": "code",
      "metadata": {
        "id": "BQkdI--j7Hhi",
        "colab_type": "code",
        "colab": {}
      },
      "source": [
        ""
      ],
      "execution_count": 0,
      "outputs": []
    }
  ]
}